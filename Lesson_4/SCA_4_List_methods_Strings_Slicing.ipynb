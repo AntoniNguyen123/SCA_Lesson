{
 "cells": [
  {
   "cell_type": "markdown",
   "id": "b1318ed1",
   "metadata": {},
   "source": [
    "# **Lecture overview**\n",
    "\n",
    "Let's take a moment to review a problem from our previous session to reinforce our understanding of functions best practices. We'll then dive into exploring built-in functions and methods for working with lists, as well as delving into strings and slicing in Python. Let's dive into these topics to expand our Python programming skills!\n",
    "\n",
    "🔍 **Here’s What We'll Cover:**\n",
    "\n",
    "-   Review of Previous Lecture Problem:<br>\n",
    "\n",
    "    -   We'll revisit a problem from our previous lecture to reinforce our understanding of functions best practices. By reviewing and discussing the problem, we'll solidify our knowledge and address any lingering questions or uncertainties.\n",
    "\n",
    "-   Built-in Functions and Methods for Lists:<br>\n",
    "\n",
    "    -   We'll explore a range of built-in functions and methods that Python provides for working with lists. From adding and removing elements to sorting and iterating through lists, we'll learn how to leverage these tools to manipulate lists efficiently\n",
    "\n",
    "-   Strings in Python:<br>\n",
    "\n",
    "    -   We'll shift our focus to strings, another essential data type in Python. We'll learn how to create strings, perform basic operations on strings, and explore various string manipulation techniques.\n",
    "\n",
    "-   Slicing Operator:<br>\n",
    "\n",
    "    -   We'll delve into the slicing operator, a powerful feature in Python for extracting substrings and accessing portions of lists and strings. Understanding how slicing works will enable us to work more effectively with sequences in Python.\n",
    "\n",
    "-   String Methods:<br>\n",
    "\n",
    "    -   We'll learn about built-in string methods that Python provides for performing common string operations. From searching and replacing substrings to manipulating strings, these methods will expand our toolkit for working with text data."
   ]
  },
  {
   "cell_type": "markdown",
   "id": "458871c1",
   "metadata": {},
   "source": [
    "# 🧑‍🏫 Classwork\n",
    "## Functions. Decomposition\n",
    "### Question 1:\n",
    "\n",
    "**Task**<br>\n",
    "\n",
    "A ticket is considered lucky if its number `is even` but `does not end with 2.`\n",
    "\n",
    "Write a program that takes in 1 ticket number and prints `\"You're lucky\"` if the ticket is lucky or `\"Not this time\"` otherwise.\n",
    "\n",
    "⚠️ **Mandatory condition.**\n",
    "\n",
    "When solving the problem, you must define at least 2 functions, otherwise the solution will not be considered correct.\n",
    "\n",
    "|Input\t        | Result        |\n",
    "|---------------|---------------|\n",
    "|123456         | You're lucky  |\n",
    "|654321         |Not this time  |\n",
    "|121212         |Not this time  |\n"
   ]
  },
  {
   "cell_type": "code",
   "execution_count": 14,
   "id": "36495703",
   "metadata": {},
   "outputs": [
    {
     "name": "stdout",
     "output_type": "stream",
     "text": [
      "Lỗi: Vui lòng nhập một số nguyên hợp lệ.\n"
     ]
    }
   ],
   "source": [
    "def is_lucky_ticket(number):\n",
    "    return number % 2 == 0 and number % 10 != 2\n",
    "\n",
    "def main():\n",
    "    try:\n",
    "        ticket = int(input())\n",
    "        if is_lucky_ticket(ticket):\n",
    "            print(\"You're lucky\")\n",
    "        else:\n",
    "            print(\"Not this time\")\n",
    "    except ValueError:\n",
    "        print(\"Lỗi: Vui lòng nhập một số nguyên hợp lệ.\")\n",
    "\n",
    "main()"
   ]
  },
  {
   "cell_type": "code",
   "execution_count": 15,
   "id": "98d46b3f",
   "metadata": {},
   "outputs": [
    {
     "name": "stdout",
     "output_type": "stream",
     "text": [
      "Not this time\n"
     ]
    }
   ],
   "source": [
    "def is_lucky(ticket):\n",
    "    return int(ticket) % 2 == 0 and ticket[-1] != '2'\n",
    "\n",
    "def check_ticket(ticket):\n",
    "    if is_lucky(ticket):\n",
    "        print(\"You're lucky\")\n",
    "    else:\n",
    "        print(\"Not this time\")\n",
    "\n",
    "# Nhập từ bàn phím\n",
    "ticket_number = input(\"Enter ticket number: \")\n",
    "check_ticket(ticket_number)"
   ]
  },
  {
   "cell_type": "code",
   "execution_count": 17,
   "id": "50de67d6",
   "metadata": {},
   "outputs": [
    {
     "name": "stdout",
     "output_type": "stream",
     "text": [
      "Bạn đã nhập: 12690\n",
      "You're lucky\n"
     ]
    }
   ],
   "source": [
    "def is_lucky_ticket(number):\n",
    "    return number % 2 == 0 and number % 10 != 2\n",
    "\n",
    "def main():\n",
    "    try:\n",
    "        ticket = int(input(\"Nhập số vé của bạn: \"))  # thêm prompt ở đây\n",
    "        print(f\"Bạn đã nhập: {ticket}\")             # in lại giá trị vừa nhập\n",
    "        if is_lucky_ticket(ticket):\n",
    "            print(\"You're lucky\")\n",
    "        else:\n",
    "            print(\"Not this time\")\n",
    "    except ValueError:\n",
    "        print(\"Lỗi: Vui lòng nhập một số nguyên hợp lệ.\")\n",
    "\n",
    "main()\n"
   ]
  },
  {
   "cell_type": "markdown",
   "id": "a71aefd1",
   "metadata": {},
   "source": [
    "## Lists. Built-in function and methods\n",
    "### Question 1:\n",
    "\n",
    "**Task**<br>\n",
    "A list of integers separated by spaces is entered from the keyboard.\n",
    "\n",
    "Print this list in reverse order.\n",
    "\n",
    "**Input format**\n",
    "\n",
    "A list of integers separated by spaces\n",
    "\n",
    "**Output format**\n",
    "\n",
    "The entered list in reverse order\n",
    "\n",
    "|Input\t        |Result                 |\n",
    "|---------------|-----------------------|\n",
    "|1 2 3 4 5      |[5, 4, 3, 2, 1]        |\n",
    "|10 9 8 7 6 5 4 3 2 1|[1, 2, 3, 4, 5, 6, 7, 8, 9, 10]|\n"
   ]
  },
  {
   "cell_type": "code",
   "execution_count": 18,
   "id": "e9d53f28",
   "metadata": {},
   "outputs": [
    {
     "name": "stdout",
     "output_type": "stream",
     "text": [
      "[5, 4, 3, 2, 1]\n"
     ]
    }
   ],
   "source": [
    "try:\n",
    "    nums = list(map(int, input().split()))\n",
    "    #print(\"Danh sách đảo ngược là:\")\n",
    "    print(list(reversed(nums)))  # ✅ Cách in giữ nguyên dấu []\n",
    "except ValueError:\n",
    "    print(\"Lỗi: Vui lòng chỉ nhập các số nguyên, cách nhau bằng dấu cách.\")\n"
   ]
  },
  {
   "cell_type": "code",
   "execution_count": 19,
   "id": "05107304",
   "metadata": {},
   "outputs": [
    {
     "name": "stdout",
     "output_type": "stream",
     "text": [
      "Bạn đã nhập: 9 7 0 2 8 1\n",
      "Danh sách đảo ngược là: [1, 8, 2, 0, 7, 9]\n"
     ]
    }
   ],
   "source": [
    "try:\n",
    "    raw_input = input(\"Nhập dãy số cách nhau bởi dấu cách: \")\n",
    "    print(\"Bạn đã nhập:\", raw_input)\n",
    "    nums = list(map(int, raw_input.split()))\n",
    "    print(\"Danh sách đảo ngược là:\", list(reversed(nums)))\n",
    "except ValueError:\n",
    "    print(\"Lỗi: Vui lòng chỉ nhập các số nguyên, cách nhau bằng dấu cách.\")\n"
   ]
  },
  {
   "attachments": {
    "image-2.png": {
     "image/png": "[encoded data removed]"
    },
    "image.png": {
     "image/png": "[encoded data removed]"
    }
   },
   "cell_type": "markdown",
   "id": "e8996c04",
   "metadata": {},
   "source": [
    "### Question 2:\n",
    "\n",
    "**Task**<br>\n",
    "Most of the tools for operating and analyzing data provide you with a panel with the descriptive statistics of your data. For example, this is how it looks in Google Sheets:\n",
    "\n",
    "![image.png](attachment:image.png)\n",
    "\n",
    "Let's implement something similar ourselves with our learned Python skills.\n",
    "\n",
    "A list of integers separated by spaces is entered from the keyboard.\n",
    "\n",
    "Output the following information about the entered list:\n",
    "\n",
    "-   Number of elements\n",
    "-   Sum\n",
    "-   Mean (average value)\n",
    "-   Spread (max - min)\n",
    "\n",
    "**Input format**<br>\n",
    "\n",
    "A list of integers separated by spaces\n",
    "\n",
    "**Output format**<br>\n",
    "\n",
    "4 lines in the following format:\n",
    "\n",
    "Count: `c`<br>\n",
    "Sum: `s`<br>\n",
    "Mean: `m`<br>\n",
    "Spread: `sp`<br>\n",
    "\n",
    "![image-2.png](attachment:image-2.png)\n"
   ]
  },
  {
   "cell_type": "code",
   "execution_count": 20,
   "id": "2452135f",
   "metadata": {},
   "outputs": [
    {
     "name": "stdout",
     "output_type": "stream",
     "text": [
      "Count: 5\n",
      "Sum: 15\n",
      "Mean: 3.0\n",
      "Spread: 4\n"
     ]
    }
   ],
   "source": [
    "def get_statistics(numbers):\n",
    "    count = len(numbers)\n",
    "    total = 0\n",
    "    max_val = numbers[0]\n",
    "    min_val = numbers[0]\n",
    "    \n",
    "    for num in numbers:\n",
    "        total += num\n",
    "        if num > max_val:\n",
    "            max_val = num\n",
    "        if num < min_val:\n",
    "            min_val = num\n",
    "    \n",
    "    mean = total / count\n",
    "    spread = max_val - min_val\n",
    "    \n",
    "    return count, total, mean, spread\n",
    "\n",
    "def main():\n",
    "    raw_input = input().split()\n",
    "    numbers = []\n",
    "    errors = []\n",
    "\n",
    "    for val in raw_input:\n",
    "        try:\n",
    "            num = int(val)\n",
    "            numbers.append(num)\n",
    "        except ValueError:\n",
    "            errors.append(val)\n",
    "    \n",
    "    if errors:\n",
    "        print(\"Lỗi: Các giá trị sau không phải số nguyên:\", \", \".join(errors))\n",
    "        return\n",
    "\n",
    "    if not numbers:\n",
    "        print(\"Lỗi: Không có số nguyên nào được nhập.\")\n",
    "        return\n",
    "\n",
    "    count, total, mean, spread = get_statistics(numbers)\n",
    "    print(f\"Count: {count}\")\n",
    "    print(f\"Sum: {total}\")\n",
    "    print(f\"Mean: {mean}\")\n",
    "    print(f\"Spread: {spread}\")\n",
    "\n",
    "main()"
   ]
  },
  {
   "cell_type": "code",
   "execution_count": 21,
   "id": "8d70bf9b",
   "metadata": {},
   "outputs": [
    {
     "name": "stdout",
     "output_type": "stream",
     "text": [
      "✅ Danh sách số hợp lệ đã nhập: [0, 8, 3, 90, 12, 4, 7, 6]\n",
      "📊 Count (Số lượng): 8\n",
      "🧮 Sum (Tổng): 130\n",
      "📈 Mean (Trung bình): 16.25\n",
      "📉 Spread (Độ trải): 90\n"
     ]
    }
   ],
   "source": [
    "def get_statistics(numbers):\n",
    "    count = len(numbers)\n",
    "    total = 0\n",
    "    max_val = numbers[0]\n",
    "    min_val = numbers[0]\n",
    "    \n",
    "    for num in numbers:\n",
    "        total += num\n",
    "        if num > max_val:\n",
    "            max_val = num\n",
    "        if num < min_val:\n",
    "            min_val = num\n",
    "    \n",
    "    mean = total / count\n",
    "    spread = max_val - min_val\n",
    "    \n",
    "    return count, total, mean, spread\n",
    "\n",
    "def main():\n",
    "    raw_input = input(\"Nhập các số nguyên cách nhau bởi dấu cách: \").split()\n",
    "    numbers = []\n",
    "    errors = []\n",
    "\n",
    "    for val in raw_input:\n",
    "        try:\n",
    "            num = int(val)\n",
    "            numbers.append(num)\n",
    "        except ValueError:\n",
    "            errors.append(val)\n",
    "    \n",
    "    if errors:\n",
    "        print(\"⚠️ Lỗi: Các giá trị sau không phải số nguyên:\", \", \".join(errors))\n",
    "        return\n",
    "\n",
    "    if not numbers:\n",
    "        print(\"⚠️ Lỗi: Không có số nguyên nào được nhập.\")\n",
    "        return\n",
    "\n",
    "    print(\"✅ Danh sách số hợp lệ đã nhập:\", numbers)\n",
    "\n",
    "    count, total, mean, spread = get_statistics(numbers)\n",
    "    print(f\"📊 Count (Số lượng): {count}\")\n",
    "    print(f\"🧮 Sum (Tổng): {total}\")\n",
    "    print(f\"📈 Mean (Trung bình): {mean}\")\n",
    "    print(f\"📉 Spread (Độ trải): {spread}\")\n",
    "\n",
    "# Gọi hàm main nếu chạy trực tiếp\n",
    "if __name__ == \"__main__\":\n",
    "    main()\n"
   ]
  },
  {
   "attachments": {
    "image.png": {
     "image/png": "[encoded data removed]"
    }
   },
   "cell_type": "markdown",
   "id": "b8a0bec4",
   "metadata": {},
   "source": [
    "### Question 3:\n",
    "\n",
    "**Task**<br>\n",
    "\n",
    "A list of integers separated by spaces is entered from the keyboard. Sort the elements of this list into three other lists:\n",
    "\n",
    "-   a list with positive numbers.\n",
    "-   a list with even numbers.\n",
    "-   a list with two-digit numbers.\n",
    "\n",
    "Output these lists on the screen, each on a separate line.\n",
    "\n",
    "**Input format**\n",
    "\n",
    "A list of integers separated by spaces\n",
    "\n",
    "**Output format**\n",
    "\n",
    "3 lists according to the task conditions\n",
    "\n",
    "![image.png](attachment:image.png)"
   ]
  },
  {
   "cell_type": "code",
   "execution_count": 13,
   "id": "f85faff6",
   "metadata": {},
   "outputs": [
    {
     "name": "stdout",
     "output_type": "stream",
     "text": [
      "[1, 4, 77, 34, 50, 13, 55, 77, 123]\n",
      "[4, 34, 50]\n",
      "[77, 34, 50, 13, 55, 77]\n"
     ]
    }
   ],
   "source": [
    "import re\n",
    "\n",
    "def is_integer(s):\n",
    "    return re.fullmatch(r'-?\\d+', s) is not None\n",
    "\n",
    "def main():\n",
    "    raw = input().split()\n",
    "    invalids = [x for x in raw if not is_integer(x)]\n",
    "    if invalids:\n",
    "        print(f\"Giá trị không hợp lệ: {', '.join(invalids)}\")\n",
    "        return\n",
    "\n",
    "    nums = list(map(int, raw))\n",
    "    pos = list(filter(lambda x: x > 0, nums))\n",
    "    even = list(filter(lambda x: x % 2 == 0, nums))\n",
    "    two_digits = list(filter(lambda x: 10 <= abs(x) <= 99, nums))\n",
    "\n",
    "    print(pos)\n",
    "    print(even)\n",
    "    print(two_digits)\n",
    "\n",
    "main()"
   ]
  },
  {
   "cell_type": "code",
   "execution_count": 22,
   "id": "18e081ca",
   "metadata": {},
   "outputs": [
    {
     "name": "stdout",
     "output_type": "stream",
     "text": [
      "Bạn đã nhập: 1 0 9 8 5 34 98 12 67\n",
      "Các số dương: [1, 9, 8, 5, 34, 98, 12, 67]\n",
      "Các số chẵn: [0, 8, 34, 98, 12]\n",
      "Các số có 2 chữ số: [34, 98, 12, 67]\n"
     ]
    }
   ],
   "source": [
    "import re\n",
    "\n",
    "def is_integer(s):\n",
    "    return re.fullmatch(r'-?\\d+', s) is not None\n",
    "\n",
    "def main():\n",
    "    raw = input(\"Nhập các số nguyên cách nhau bởi dấu cách: \").split()  # Gợi ý input\n",
    "    print(\"Bạn đã nhập:\", ' '.join(raw))  # Hiện lại kết quả input\n",
    "\n",
    "    invalids = [x for x in raw if not is_integer(x)]\n",
    "    if invalids:\n",
    "        print(f\"Giá trị không hợp lệ: {', '.join(invalids)}\")\n",
    "        return\n",
    "\n",
    "    nums = list(map(int, raw))\n",
    "    pos = list(filter(lambda x: x > 0, nums))\n",
    "    even = list(filter(lambda x: x % 2 == 0, nums))\n",
    "    two_digits = list(filter(lambda x: 10 <= abs(x) <= 99, nums))\n",
    "\n",
    "    print(\"Các số dương:\", pos)\n",
    "    print(\"Các số chẵn:\", even)\n",
    "    print(\"Các số có 2 chữ số:\", two_digits)\n",
    "\n",
    "main()\n"
   ]
  },
  {
   "attachments": {
    "image.png": {
     "image/png": "[encoded data removed]"
    }
   },
   "cell_type": "markdown",
   "id": "acf1d87a",
   "metadata": {},
   "source": [
    "### Question 4:\n",
    "\n",
    "**Task**<br>\n",
    "\n",
    "A list of integers separated by spaces is entered from the keyboard. Then, on a separate line, one integer `x` is entered.\n",
    "\n",
    "Calculate the frequency of the number `x` in the entered list. Frequency is the percentage that this number occupies of the total number of elements in the list.\n",
    "\n",
    "**Input format**\n",
    "\n",
    "2 lines:\n",
    "\n",
    "-   A list of integers separated by spaces\n",
    "-   An integer N\n",
    "\n",
    "**Output format**\n",
    "\n",
    "The frequency of the entered number in the list, formatted as a percentage\n",
    "\n",
    "![image.png](attachment:image.png)"
   ]
  },
  {
   "cell_type": "code",
   "execution_count": 14,
   "id": "5dd23098",
   "metadata": {},
   "outputs": [
    {
     "name": "stdout",
     "output_type": "stream",
     "text": [
      "Lỗi: Số cần kiểm tra phải là số nguyên.\n"
     ]
    }
   ],
   "source": [
    "def validate_list_input(raw_input):\n",
    "    parts = raw_input.strip().split()\n",
    "    invalids = [x for x in parts if not x.lstrip(\"-\").isdigit()]\n",
    "    if invalids:\n",
    "        raise ValueError(f\"Lỗi: Các giá trị sau không hợp lệ: {', '.join(invalids)}\")\n",
    "    return list(map(int, parts))\n",
    "\n",
    "def validate_integer_input(raw_input):\n",
    "    if not raw_input.strip().lstrip(\"-\").isdigit():\n",
    "        raise ValueError(\"Lỗi: Số cần kiểm tra phải là số nguyên.\")\n",
    "    return int(raw_input.strip())\n",
    "\n",
    "def calculate_frequency(nums, target):\n",
    "    count = 0\n",
    "    total = 0\n",
    "    for num in nums:\n",
    "        total += 1\n",
    "        if num == target:\n",
    "            count += 1\n",
    "    if total == 0:\n",
    "        return 0\n",
    "    return round((count / total) * 100, 2)\n",
    "\n",
    "try:\n",
    "    # Nhập danh sách số\n",
    "    raw_list = input()\n",
    "    nums = validate_list_input(raw_list)\n",
    "\n",
    "    # Nhập số cần kiểm tra\n",
    "    raw_n = input()\n",
    "    target = validate_integer_input(raw_n)\n",
    "\n",
    "    # Tính tần suất\n",
    "    frequency = calculate_frequency(nums, target)\n",
    "    print(f\"{frequency}%\")\n",
    "\n",
    "except ValueError as e:\n",
    "    print(e)"
   ]
  },
  {
   "cell_type": "code",
   "execution_count": 24,
   "id": "d6e02ebf",
   "metadata": {},
   "outputs": [
    {
     "name": "stdout",
     "output_type": "stream",
     "text": [
      "Nhập danh sách số nguyên, cách nhau bằng dấu cách:\n",
      "✅ Bạn đã nhập danh sách: 1 2 3 4 5\n",
      "Nhập số nguyên cần kiểm tra tần suất:\n",
      "✅ Bạn đã nhập số cần kiểm tra: 3\n",
      "📊 Tần suất xuất hiện của 3 là: 20.0%\n"
     ]
    }
   ],
   "source": [
    "def validate_list_input(raw_input):\n",
    "    parts = raw_input.strip().split()\n",
    "    invalids = [x for x in parts if not x.lstrip(\"-\").isdigit()]\n",
    "    if invalids:\n",
    "        raise ValueError(f\"Lỗi: Các giá trị sau không hợp lệ: {', '.join(invalids)}\")\n",
    "    return list(map(int, parts))\n",
    "\n",
    "def validate_integer_input(raw_input):\n",
    "    if not raw_input.strip().lstrip(\"-\").isdigit():\n",
    "        raise ValueError(\"Lỗi: Số cần kiểm tra phải là số nguyên.\")\n",
    "    return int(raw_input.strip())\n",
    "\n",
    "def calculate_frequency(nums, target):\n",
    "    count = nums.count(target)\n",
    "    total = len(nums)\n",
    "    if total == 0:\n",
    "        return 0\n",
    "    return round((count / total) * 100, 2)\n",
    "\n",
    "try:\n",
    "    # Nhập danh sách số nguyên\n",
    "    print(\"Nhập danh sách số nguyên, cách nhau bằng dấu cách:\")\n",
    "    raw_list = input()\n",
    "    print(f\"✅ Bạn đã nhập danh sách: {raw_list}\")\n",
    "    nums = validate_list_input(raw_list)\n",
    "\n",
    "    # Nhập số nguyên cần kiểm tra\n",
    "    print(\"Nhập số nguyên cần kiểm tra tần suất:\")\n",
    "    raw_n = input()\n",
    "    print(f\"✅ Bạn đã nhập số cần kiểm tra: {raw_n}\")\n",
    "    target = validate_integer_input(raw_n)\n",
    "\n",
    "    # Tính tần suất\n",
    "    frequency = calculate_frequency(nums, target)\n",
    "    print(f\"📊 Tần suất xuất hiện của {target} là: {frequency}%\")\n",
    "\n",
    "except ValueError as e:\n",
    "    print(f\"❌ {e}\")\n",
    "\n"
   ]
  },
  {
   "cell_type": "markdown",
   "id": "71c0274e",
   "metadata": {},
   "source": [
    "## Strings\n",
    "### Question 1:\n",
    "\n",
    "**Task**<br>\n",
    "Write a program that cuts the given words. It should take a string and print only the first 3 characters. If the length of the original string is less or equal to 3 characters, it should print the whole given string.\n",
    "\n",
    "**Input format**\n",
    "\n",
    "A string\n",
    "\n",
    "**Output format**\n",
    "\n",
    "The first 3 characters of the given string\n",
    "\n",
    "|Input\t        | Result        |\n",
    "|---------------|---------------|\n",
    "|Average        |Ave            |\n",
    "|Median         |Med            |\n",
    "|Sum            |Sum            |\n",
    "|Hi             |Hi             |\n"
   ]
  },
  {
   "cell_type": "code",
   "execution_count": 16,
   "id": "040869e3",
   "metadata": {},
   "outputs": [
    {
     "name": "stdout",
     "output_type": "stream",
     "text": [
      "dav\n"
     ]
    }
   ],
   "source": [
    "s = input()\n",
    "if len(s) <= 3:\n",
    "    print(s)\n",
    "else:\n",
    "    print(s[:3])"
   ]
  },
  {
   "cell_type": "code",
   "execution_count": 26,
   "id": "ea2b74f8",
   "metadata": {},
   "outputs": [
    {
     "name": "stdout",
     "output_type": "stream",
     "text": [
      "Bạn đã nhập: mua mới 123\n",
      "Kết quả: mua\n"
     ]
    }
   ],
   "source": [
    "# Yêu cầu người dùng nhập chuỗi\n",
    "s = input(\"Nhập một chuỗi ký tự: \")\n",
    "\n",
    "# In ra chuỗi đã nhập\n",
    "print(f\"Bạn đã nhập: {s}\")\n",
    "\n",
    "# In ra 3 ký tự đầu tiên (hoặc toàn bộ nếu ngắn hơn 3 ký tự)\n",
    "if len(s) <= 3:\n",
    "    print(f\"Kết quả: {s}\")\n",
    "else:\n",
    "    print(f\"Kết quả: {s[:3]}\")\n"
   ]
  },
  {
   "cell_type": "markdown",
   "id": "205568aa",
   "metadata": {},
   "source": [
    "## Question 2:\n",
    "\n",
    "**Task**\n",
    "\n",
    "Our intelligence constantly receives various messages. They all contain incomprehensible sets of characters. However, it was obtained that in messages starting with **\"crypto\"**, there are encryptions.\n",
    "\n",
    "Check the given string and output **\"Hack it\"** if the message is encrypted, or **\"Nothing interesting\"** if it's just random characters.\n",
    "\n",
    "**Input format**\n",
    "\n",
    "The program receives one string `S` - the received message.\n",
    "\n",
    "**Output format**\n",
    "\n",
    "The program should output one line - **\"Hack it\"** if the message is encrypted, or **\"Nothing interesting\"** if it isn't.\n",
    "\n",
    "|Input\t                        |Result                  |\n",
    "|------------------------------|-------------------------|\n",
    "|lalalalanothingherelalala      |Nothing interesting      |  \n",
    "|cryptomessageendcrypt          |Hack it                  |\n"
   ]
  },
  {
   "cell_type": "code",
   "execution_count": 17,
   "id": "42b5bcc6",
   "metadata": {},
   "outputs": [
    {
     "name": "stdout",
     "output_type": "stream",
     "text": [
      "Hack it\n"
     ]
    }
   ],
   "source": [
    "s = input()\n",
    "\n",
    "if s.startswith(\"crypto\"):\n",
    "    print(\"Hack it\")\n",
    "else:\n",
    "    print(\"Nothing interesting\")"
   ]
  },
  {
   "cell_type": "code",
   "execution_count": 28,
   "id": "d4c4652e",
   "metadata": {},
   "outputs": [
    {
     "name": "stdout",
     "output_type": "stream",
     "text": [
      "Bạn đã nhập: crypto là gì?\n",
      "Kết quả: Hack it\n"
     ]
    }
   ],
   "source": [
    "# Yêu cầu người dùng nhập chuỗi với thông báo\n",
    "s = input(\"Nhập một chuỗi bất kỳ: \")\n",
    "\n",
    "# In ra chuỗi người dùng đã nhập\n",
    "print(f\"Bạn đã nhập: {s}\")\n",
    "\n",
    "# Kiểm tra xem chuỗi có bắt đầu bằng \"crypto\" hay không\n",
    "if s.startswith(\"crypto\"):\n",
    "    print(\"Kết quả: Hack it\")\n",
    "else:\n",
    "    print(\"Kết quả: Nothing interesting\")\n"
   ]
  },
  {
   "cell_type": "markdown",
   "id": "59a31cb8",
   "metadata": {},
   "source": [
    "## Question 3:\n",
    "\n",
    "**Task**\n",
    "\n",
    "John came up with a cipher. To keep his secret diary safe, he will now write all the words backwards.\n",
    "\n",
    "Write a program to help John. It should read a word or phrase and output it in reversed form.\n",
    "\n",
    "**Input format**\n",
    "\n",
    "A string\n",
    "\n",
    "**Output format**\n",
    "\n",
    "A reversed string\n",
    "\n",
    "|Input\t                    |Result                     |\n",
    "|---------------------------|---------------------------|\n",
    "|Hello world                |dlrow olleH                |\n",
    "|Never gonna give you up    |pu uoy evig annog reveN    |\n"
   ]
  },
  {
   "cell_type": "code",
   "execution_count": 18,
   "id": "4700da42",
   "metadata": {},
   "outputs": [
    {
     "name": "stdout",
     "output_type": "stream",
     "text": [
      "dlrow olleh\n"
     ]
    }
   ],
   "source": [
    "def reverse_string(s):\n",
    "    if len(s) <= 1:\n",
    "        return s\n",
    "    return s[-1] + reverse_string(s[:-1])\n",
    "\n",
    "text = input()\n",
    "print(reverse_string(text))"
   ]
  },
  {
   "cell_type": "code",
   "execution_count": 29,
   "id": "d417e6fe",
   "metadata": {},
   "outputs": [
    {
     "name": "stdout",
     "output_type": "stream",
     "text": [
      "Bạn đã nhập: lêu lêu quê xệ\n",
      "Chuỗi sau khi đảo ngược: ệx êuq uêl uêl\n"
     ]
    }
   ],
   "source": [
    "def reverse_string(s):\n",
    "    if len(s) <= 1:\n",
    "        return s\n",
    "    return s[-1] + reverse_string(s[:-1])\n",
    "\n",
    "# Yêu cầu người dùng nhập chuỗi với thông báo\n",
    "text = input(\"Nhập một chuỗi để đảo ngược: \")\n",
    "\n",
    "# In ra chuỗi gốc người dùng đã nhập\n",
    "print(f\"Bạn đã nhập: {text}\")\n",
    "\n",
    "# In ra kết quả chuỗi đảo ngược\n",
    "print(f\"Chuỗi sau khi đảo ngược: {reverse_string(text)}\")\n"
   ]
  },
  {
   "attachments": {
    "image.png": {
     "image/png": "[encoded data removed]"
    }
   },
   "cell_type": "markdown",
   "id": "da28e218",
   "metadata": {},
   "source": [
    "## Question 4:\n",
    "\n",
    "**Task**\n",
    "\n",
    "Write a program that takes 3 strings:\n",
    "\n",
    "-   `haystack`: the text to be processed\n",
    "-   `needle`: the text to be found\n",
    "-   `replace`: The replacement value that replaces the found needle values\n",
    "\n",
    "The program should replace all occurrences of `needle` in the `haystack` string with `replace` and output the resulting string after replacement.\n",
    "\n",
    "**Input format**\n",
    "\n",
    "3 strings\n",
    "\n",
    "**Output format**\n",
    "\n",
    "The modified string\n",
    "\n",
    "![image.png](attachment:image.png)"
   ]
  },
  {
   "cell_type": "code",
   "execution_count": 19,
   "id": "0d171b33",
   "metadata": {},
   "outputs": [
    {
     "name": "stdout",
     "output_type": "stream",
     "text": [
      "goodbye worl\n"
     ]
    }
   ],
   "source": [
    "import re\n",
    "\n",
    "# Nhập từ người dùng\n",
    "haystack = input()\n",
    "needle = input()\n",
    "replace = input()\n",
    "\n",
    "# Tạo biểu thức chính quy để thay thế không phân biệt hoa thường\n",
    "pattern = re.compile(re.escape(needle), re.IGNORECASE)\n",
    "result = pattern.sub(replace, haystack)\n",
    "\n",
    "print(result)"
   ]
  },
  {
   "cell_type": "code",
   "execution_count": 30,
   "id": "10455b82",
   "metadata": {},
   "outputs": [
    {
     "name": "stdout",
     "output_type": "stream",
     "text": [
      "\n",
      "Bạn đã nhập:\n",
      "Văn bản gốc (haystack): mua sản phẩm tại DMCL\n",
      "Chuỗi cần tìm (needle): dmcl\n",
      "Chuỗi thay thế (replace): DMX\n",
      "\n",
      "Kết quả sau khi thay thế: mua sản phẩm tại DMX\n"
     ]
    }
   ],
   "source": [
    "import re\n",
    "\n",
    "# Nhập từ người dùng với thông báo rõ ràng\n",
    "haystack = input(\"Nhập đoạn văn bản gốc (haystack): \")\n",
    "needle = input(\"Nhập chuỗi cần tìm (needle): \")\n",
    "replace = input(\"Nhập chuỗi thay thế (replace): \")\n",
    "\n",
    "# In lại các giá trị đã nhập\n",
    "print(f\"\\nBạn đã nhập:\")\n",
    "print(f\"Văn bản gốc (haystack): {haystack}\")\n",
    "print(f\"Chuỗi cần tìm (needle): {needle}\")\n",
    "print(f\"Chuỗi thay thế (replace): {replace}\")\n",
    "\n",
    "# Tạo biểu thức chính quy để thay thế không phân biệt hoa thường\n",
    "pattern = re.compile(re.escape(needle), re.IGNORECASE)\n",
    "result = pattern.sub(replace, haystack)\n",
    "\n",
    "# In kết quả sau khi thay thế\n",
    "print(f\"\\nKết quả sau khi thay thế: {result}\")\n"
   ]
  },
  {
   "attachments": {
    "image.png": {
     "image/png": "[encoded data removed]"
    }
   },
   "cell_type": "markdown",
   "id": "fd038c50",
   "metadata": {},
   "source": [
    "# 💪 Classwork: Extra tasks\n",
    "## Extra tasks\n",
    "### Question 1:\n",
    "\n",
    "**Task**\n",
    "\n",
    "Analyzing media, there is a need to focus attention on complex words.\n",
    "\n",
    "Such words are rarely used in everyday life and are therefore convenient for conveying special messages. Your task is to determine the number of words longer than `A` in the provided message.\n",
    "\n",
    "**Input format**\n",
    "\n",
    "The first line contains a media message of no more than 255 characters.\n",
    "\n",
    "The second line contains a number `A` - the maximum length of \"ordinary\" words.\n",
    "\n",
    "**Output format**\n",
    "\n",
    "Output one number - the number of words longer than `A`\n",
    "\n",
    "![image.png](attachment:image.png)"
   ]
  },
  {
   "cell_type": "code",
   "execution_count": 20,
   "id": "40fe65c7",
   "metadata": {},
   "outputs": [
    {
     "name": "stdout",
     "output_type": "stream",
     "text": [
      "4\n"
     ]
    }
   ],
   "source": [
    "import re\n",
    "\n",
    "try:\n",
    "    message = input()\n",
    "    A = int(input())\n",
    "    words = re.findall(r'\\b\\w+\\b', message)\n",
    "    complex_words = [w for w in words if len(w) > A]\n",
    "    print(f\"{len(complex_words)}\")\n",
    "    #if complex_words:\n",
    "        #print(\"📌 Các từ này là:\", \", \".join(complex_words))\n",
    "except ValueError:\n",
    "    print(\"⚠️ Lỗi: A phải là một số nguyên.\")"
   ]
  },
  {
   "cell_type": "code",
   "execution_count": 32,
   "id": "4eac0185",
   "metadata": {},
   "outputs": [
    {
     "name": "stdout",
     "output_type": "stream",
     "text": [
      "Nhập đoạn văn bản:\n",
      "Bạn đã nhập đoạn văn:\n",
      "📄 anh mới đi đâu về?\n",
      "\n",
      "Nhập độ dài tối thiểu của từ (A):\n",
      "🎯 Bạn đã nhập A = 2\n",
      "\n",
      "✅ Có 3 từ có độ dài lớn hơn 2.\n",
      "📌 Các từ đó là: anh, mới, đâu\n"
     ]
    }
   ],
   "source": [
    "import re\n",
    "\n",
    "try:\n",
    "    print(\"Nhập đoạn văn bản:\")\n",
    "    message = input(\">> \")\n",
    "\n",
    "    print(\"Bạn đã nhập đoạn văn:\")\n",
    "    print(f\"📄 {message}\\n\")\n",
    "\n",
    "    print(\"Nhập độ dài tối thiểu của từ (A):\")\n",
    "    A = int(input(\">> \"))\n",
    "\n",
    "    print(f\"🎯 Bạn đã nhập A = {A}\\n\")\n",
    "\n",
    "    # Phân tích và tìm các từ có độ dài > A\n",
    "    words = re.findall(r'\\b\\w+\\b', message)\n",
    "    complex_words = [w for w in words if len(w) > A]\n",
    "\n",
    "    print(f\"✅ Có {len(complex_words)} từ có độ dài lớn hơn {A}.\")\n",
    "    if complex_words:\n",
    "        print(\"📌 Các từ đó là:\", \", \".join(complex_words))\n",
    "\n",
    "except ValueError:\n",
    "    print(\"⚠️ Lỗi: A phải là một số nguyên.\")\n",
    "\n"
   ]
  },
  {
   "attachments": {
    "image.png": {
     "image/png": "[encoded data removed]"
    }
   },
   "cell_type": "markdown",
   "id": "29d965f6",
   "metadata": {},
   "source": [
    "### Question 2:\n",
    "\n",
    "**Task**<br>\n",
    "\n",
    "Dispersion is a measure in probability theory that shows how values in a set are spread out relative to their average.\n",
    "\n",
    "Essentially, it indicates how much some values in a sequence deviate from the average of the entire set. For example, the dispersion of the set **\"1 2 3\"** will be less than the dispersion of the set **\"-100 1 100\".**\n",
    "\n",
    "It is calculated by the following formula:\n",
    "\n",
    "![image.png](attachment:image.png)\n",
    "\n",
    "where `σ2` is the desired dispersion, `x1`, `x2`...`xn` are the elements of the sequence, `μ` is the arithmetic mean of the sequence, and `n` is the number of elements in the sequence.\n",
    "\n",
    "Write a function `dispersion(lst)` that calculates the dispersion of the list passed as a parameter.\n",
    " \n",
    "**Input format**\n",
    "\n",
    "The function takes one parameter: a list of numbers.\n",
    "\n",
    "**Output format**\n",
    "\n",
    "The function should return the dispersion of the passed set.\n",
    "\n",
    "|Input\t            |Result                 |\n",
    "|-------------------|-----------------------|\n",
    "|1 1 1              |0.0                    |\n",
    "|1 10 20            |60.22222222222223      |\n",
    "|85 17 70 8 12 36   |875.6666666666666      |"
   ]
  },
  {
   "cell_type": "code",
   "execution_count": 2,
   "id": "d3fd00f6",
   "metadata": {},
   "outputs": [],
   "source": [
    "def dispersion(lst):\n",
    "    if not lst:\n",
    "        return 0  # hoặc raise ValueError(\"List is empty\") nếu muốn nghiêm ngặt\n",
    "\n",
    "    n = len(lst)\n",
    "    mean = sum(lst) / n\n",
    "    squared_diffs = [(x - mean) ** 2 for x in lst]\n",
    "    return sum(squared_diffs) / n"
   ]
  },
  {
   "cell_type": "code",
   "execution_count": 33,
   "id": "7136afa4",
   "metadata": {},
   "outputs": [
    {
     "name": "stdout",
     "output_type": "stream",
     "text": [
      "Nhập danh sách số, cách nhau bởi dấu cách:\n",
      "📥 Bạn đã nhập: 1 1 1\n",
      "📊 Độ phân tán (dispersion) của danh sách là: 0.0000\n"
     ]
    }
   ],
   "source": [
    "def dispersion(lst):\n",
    "    if not lst:\n",
    "        return 0  # hoặc raise ValueError(\"List is empty\")\n",
    "    n = len(lst)\n",
    "    mean = sum(lst) / n\n",
    "    squared_diffs = [(x - mean) ** 2 for x in lst]\n",
    "    return sum(squared_diffs) / n\n",
    "\n",
    "try:\n",
    "    print(\"Nhập danh sách số, cách nhau bởi dấu cách:\")\n",
    "    raw_input = input(\">> \")\n",
    "    \n",
    "    # Ghi lại kết quả người dùng nhập\n",
    "    print(f\"📥 Bạn đã nhập: {raw_input}\")\n",
    "\n",
    "    # Chuyển thành danh sách số\n",
    "    numbers = list(map(float, raw_input.strip().split()))\n",
    "    \n",
    "    # Tính dispersion\n",
    "    result = dispersion(numbers)\n",
    "    print(f\"📊 Độ phân tán (dispersion) của danh sách là: {result:.4f}\")\n",
    "\n",
    "except ValueError:\n",
    "    print(\"⚠️ Lỗi: Hãy đảm bảo bạn chỉ nhập các số hợp lệ, cách nhau bởi dấu cách.\")\n"
   ]
  },
  {
   "cell_type": "markdown",
   "id": "163abeca",
   "metadata": {},
   "source": [
    "### Question 3\n",
    "\n",
    "**Task**\n",
    "\n",
    "ARE YOU FAMILIAR WITH SUCH A SITUATION?\n",
    "\n",
    "Caps Lock is sometimes pressed at the most inappropriate moment. Write a program that helps a person fix the letter cases: change all lowercase letters to uppercase, and all uppercase letters to lowercase.\n",
    "\n",
    "**Input format**\n",
    "\n",
    "A string.\n",
    "\n",
    "**Output format**\n",
    "\n",
    "The fixed string.\n",
    "\n",
    "|Input\t                    |Result             |\n",
    "|---------------------------|-------------------|\n",
    "|hELLO MY FRIEND!           |Hello my friend!   |\n",
    "|nEVER GONNA GIVE yOU UP    |Never gonna give You up|\n"
   ]
  },
  {
   "cell_type": "code",
   "execution_count": 3,
   "id": "eeae45c2",
   "metadata": {},
   "outputs": [
    {
     "name": "stdout",
     "output_type": "stream",
     "text": [
      "Hello my friend!\n"
     ]
    }
   ],
   "source": [
    "text = input()\n",
    "fixed_text = text.swapcase()\n",
    "print(fixed_text)"
   ]
  },
  {
   "cell_type": "code",
   "execution_count": 35,
   "id": "9b993525",
   "metadata": {},
   "outputs": [
    {
     "name": "stdout",
     "output_type": "stream",
     "text": [
      "Nhập văn bản cần đổi chữ HOA <-> thường:\n",
      "\n",
      "📥 Văn bản đã nhập: ANH YÊU BÓNG ĐÁ\n",
      "🔁 Văn bản sau khi đổi hoa-thường: anh yêu bóng đá\n"
     ]
    }
   ],
   "source": [
    "# Yêu cầu người dùng nhập văn bản\n",
    "print(\"Nhập văn bản cần đổi chữ HOA <-> thường:\")\n",
    "text = input(\">> \")\n",
    "\n",
    "# Đổi chữ hoa thành thường và ngược lại\n",
    "fixed_text = text.swapcase()\n",
    "\n",
    "# Hiển thị kết quả\n",
    "print(f\"\\n📥 Văn bản đã nhập: {text}\")\n",
    "print(f\"🔁 Văn bản sau khi đổi hoa-thường: {fixed_text}\")\n"
   ]
  },
  {
   "cell_type": "code",
   "execution_count": 40,
   "id": "cc225d2b",
   "metadata": {},
   "outputs": [
    {
     "name": "stdout",
     "output_type": "stream",
     "text": [
      "Bạn đã nhập: ANH ƠI\n",
      "Kết quả chuyển thường: anh ơi\n"
     ]
    }
   ],
   "source": [
    "inp = input('Nhập giá trị: ')\n",
    "low = inp.lower()\n",
    "\n",
    "print(f\"Bạn đã nhập: {inp}\")\n",
    "print(f\"Kết quả chuyển thường: {low}\")"
   ]
  },
  {
   "attachments": {
    "image.png": {
     "image/png": "[encoded data removed]"
    }
   },
   "cell_type": "markdown",
   "id": "16ad0222",
   "metadata": {},
   "source": [
    "# ✍🏻 Homework\n",
    "## Homework\n",
    "### Question 1:\n",
    "\n",
    "**Task**\n",
    "\n",
    "In some cases, text is transmitted letter by letter. Your task is to take a string and print it letter by letter, each letter on a new line.\n",
    "\n",
    "**Input format**\n",
    "\n",
    "A string of up to 255 characters, containing digits, lowercase and uppercase Latin letters, and spaces.\n",
    "\n",
    "**Output format**\n",
    "\n",
    "Print the original string, printing each letter on a new line.\n",
    "\n",
    "![image.png](attachment:image.png)"
   ]
  },
  {
   "cell_type": "code",
   "execution_count": 41,
   "id": "3ca4586a",
   "metadata": {},
   "outputs": [
    {
     "name": "stdout",
     "output_type": "stream",
     "text": [
      "l\n",
      "ú\n",
      "c\n",
      " \n",
      "n\n",
      "à\n",
      "y\n",
      " \n",
      "l\n",
      "à\n",
      " \n",
      "1\n",
      "h\n",
      " \n",
      "s\n",
      "á\n",
      "n\n",
      "g\n"
     ]
    }
   ],
   "source": [
    "text = input()\n",
    "\n",
    "for char in text:\n",
    "    print(char)"
   ]
  },
  {
   "cell_type": "markdown",
   "id": "d2584497",
   "metadata": {},
   "source": [
    "### Question 2:\n",
    "\n",
    "**Task**\n",
    "\n",
    "The input format requires a string containing several affirmative sentences, each ending with a period. However, the author intended the sentences to be interrogative. Your task is to find all the periods in the string and replace them with question marks.\n",
    "\n",
    "**Input format**\n",
    "\n",
    "A string.\n",
    "\n",
    "**Output format**\n",
    "\n",
    "The modified string.\n",
    "\n",
    "|Input\t                            |Result                             |\n",
    "|-----------------------------------|-----------------------------------|\n",
    "|Hello. How are you. what's up.     |Hello? How are you? what's up?     |\n",
    "|My name is not Anna. You.          |My name is not Anna? You?          |\n"
   ]
  },
  {
   "cell_type": "code",
   "execution_count": 5,
   "id": "30dadf1d",
   "metadata": {},
   "outputs": [
    {
     "name": "stdout",
     "output_type": "stream",
     "text": [
      "Hello? How are you?\n"
     ]
    }
   ],
   "source": [
    "text = input()\n",
    "modified_text = text.replace('.', '?')\n",
    "print(modified_text)"
   ]
  },
  {
   "cell_type": "code",
   "execution_count": 42,
   "id": "a97e2e87",
   "metadata": {},
   "outputs": [
    {
     "name": "stdout",
     "output_type": "stream",
     "text": [
      "Bạn đã nhập giá trị thôi đi ngủ đây. trễ rồi.\n",
      "Kết quả sau khi thay giá trị thôi đi ngủ đây? trễ rồi?\n"
     ]
    }
   ],
   "source": [
    "text = input('Nhập giá trị tùy ý:')\n",
    "modified_text = text.replace('.', '?')\n",
    "\n",
    "print('Bạn đã nhập giá trị',text)\n",
    "print('Kết quả sau khi thay giá trị', modified_text)"
   ]
  },
  {
   "cell_type": "markdown",
   "id": "ef222fff",
   "metadata": {},
   "source": [
    "### Question 3:\n",
    "\n",
    "**Task**\n",
    "\n",
    "Count the number of words in the given string.\n",
    "\n",
    "**Input format**\n",
    "\n",
    "A string.\n",
    "\n",
    "**Output format**\n",
    "\n",
    "One integer - the number of words in the string.\n",
    "\n",
    "|Input\t            |Result             |\n",
    "|-------------------|-------------------|\n",
    "|hello world        |2                  |\n"
   ]
  },
  {
   "cell_type": "code",
   "execution_count": 46,
   "id": "e5d06c32",
   "metadata": {},
   "outputs": [
    {
     "name": "stdout",
     "output_type": "stream",
     "text": [
      "Bạn đã nhập: 8h sáng mai làm việc\n",
      "Độ dài ký tự: 5\n"
     ]
    }
   ],
   "source": [
    "text = input('Nhập giá trị tùy ý:')\n",
    "word_count = len(text.split())\n",
    "\n",
    "print('Bạn đã nhập:', text)\n",
    "print('Độ dài ký tự:', word_count)"
   ]
  },
  {
   "attachments": {
    "image.png": {
     "image/png": "[encoded data removed]"
    }
   },
   "cell_type": "markdown",
   "id": "293531eb",
   "metadata": {},
   "source": [
    "### Question 4:\n",
    "\n",
    "**Tasks**\n",
    "\n",
    "The input format requires a list of integers separated by spaces in the first line. In the second line, an index `k` is entered.\n",
    "\n",
    "You need to output two values: the element that is to the left of the `k`-th element in the list, and the element that is to the right of the `k`-th element, respectively.\n",
    "\n",
    "**Input format**\n",
    "\n",
    "A list of integers and a number `k`, where `k` is greater than 0.\n",
    "\n",
    "**Output format**\n",
    "\n",
    "Print two integers: the left and right neighbors.\n",
    "\n",
    "![image.png](attachment:image.png)"
   ]
  },
  {
   "cell_type": "code",
   "execution_count": null,
   "id": "1758d769",
   "metadata": {},
   "outputs": [
    {
     "name": "stdout",
     "output_type": "stream",
     "text": [
      "5 7\n"
     ]
    }
   ],
   "source": [
    "# B1: Nhập list và B2: nhập vị trí index\n",
    "nums = list(map(int, input().split()))\n",
    "k = int(input())\n",
    "\n",
    "if 0 < k < len(nums) - 1:\n",
    "    print(nums[k - 1], nums[k + 1])\n",
    "else:\n",
    "    print(\"Lỗi: Không có phần tử bên trái hoặc bên phải tại vị trí k.\")"
   ]
  },
  {
   "cell_type": "code",
   "execution_count": 47,
   "id": "d617bafd",
   "metadata": {},
   "outputs": [
    {
     "name": "stdout",
     "output_type": "stream",
     "text": [
      "\n",
      "📌 Danh sách đã nhập: [1, 5, 0, 98, 75, 0, 9, 23]\n",
      "📌 Vị trí k đã nhập: 4\n",
      "\n",
      "✅ Phần tử bên trái của k là: 98\n",
      "✅ Phần tử bên phải của k là: 0\n"
     ]
    }
   ],
   "source": [
    "nums = list(map(int, input(\"Nhập danh sách số nguyên, cách nhau bằng khoảng trắng:\\n>> \").split()))\n",
    "k = int(input(\"Nhập vị trí k:\\n>> \"))\n",
    "\n",
    "print(f\"\\n📌 Danh sách đã nhập: {nums}\")\n",
    "print(f\"📌 Vị trí k đã nhập: {k}\")\n",
    "\n",
    "if 0 < k < len(nums) - 1:\n",
    "    print(f\"\\n✅ Phần tử bên trái của k là: {nums[k - 1]}\")\n",
    "    print(f\"✅ Phần tử bên phải của k là: {nums[k + 1]}\")\n",
    "else:\n",
    "    print(\"\\n⚠️ Lỗi: Không có phần tử bên trái hoặc bên phải tại vị trí k.\")\n"
   ]
  },
  {
   "cell_type": "markdown",
   "id": "ff02a141",
   "metadata": {},
   "source": [
    "### Question 5:\n",
    "\n",
    "**Task**\n",
    "\n",
    "The family decided to move to a new place. All their belongings were packed into boxes, and the boxes were weighed, with their weights written on them.\n",
    "\n",
    "During the loading process, it became clear that they couldn't take all the boxes at once. It was decided to leave behind the heaviest box and come back for it later.\n",
    "\n",
    "Which boxes should they take with them?\n",
    "\n",
    "**Input format**\n",
    "\n",
    "The first line contains a list of integers separated by spaces - the weights of the boxes. It is known for sure that each weight of a box is a unique non-repeating number. That is, there are no two boxes with the same weight.\n",
    "\n",
    "**Output format**\n",
    "\n",
    "Print a list of the weights of all the boxes that need to be taken. The order of the output values should be the same as in the original list.\n",
    "\n",
    "|Input\t                        |Result                 |\n",
    "|-------------------------------|-----------------------|\n",
    "|5 1 4 2 3                      |[1, 4, 2, 3]           |\n",
    "|10 1 45 87 16 90 12 16         |[10, 1, 45, 87, 16, 12, 16]|"
   ]
  },
  {
   "cell_type": "code",
   "execution_count": 49,
   "id": "22dfa79a",
   "metadata": {},
   "outputs": [
    {
     "name": "stdout",
     "output_type": "stream",
     "text": [
      "Kết quả sau cùng: [1, 2, 3, 4]\n"
     ]
    }
   ],
   "source": [
    "# Xóa giá trị lớn nhất\n",
    "\n",
    "weights = list(map(int, input().split()))\n",
    "max_weight = max(weights)\n",
    "weights.remove(max_weight)\n",
    "\n",
    "print('Kết quả sau cùng:', weights)"
   ]
  },
  {
   "cell_type": "markdown",
   "id": "31ed22c1",
   "metadata": {},
   "source": [
    "## Hard tasks 🙌🏻\n",
    "### Question 1:\n",
    "\n",
    "**Task**\n",
    "\n",
    "Write the function `create_acronym(line)` that takes a string and returns an acronym for it.\n",
    "\n",
    "⚠️ **Important**\n",
    "\n",
    "Please keep in mind that you only need to submit the function. There is no need to write the code to receive input values from the user or do anything else.\n",
    "\n",
    "Your code will be inserted here as a part of the resulting program. Other lines will be added automatically:\n",
    "\n",
    "`# Your function will appear here`<br>\n",
    "`line = input()`<br>\n",
    "`answer = create_acronym(line)`<br>\n",
    "`print(answer)`<br>\n",
    "\n",
    "**Example**\n",
    "\n",
    "Input: ho chi minh city\n",
    "\n",
    "Output: HCMC\n",
    "\n",
    "|Input\t                |Result             |\n",
    "|-----------------------|-------------------|\n",
    "|ho chi minh city       |HCMC               |\n",
    "|hello world            |HW                 |\n"
   ]
  },
  {
   "cell_type": "code",
   "execution_count": 11,
   "id": "d595f7b9",
   "metadata": {},
   "outputs": [],
   "source": [
    "def create_acronym(line):\n",
    "    acronym = ''\n",
    "    for word in line.split():\n",
    "        acronym += word[0].upper()\n",
    "    return acronym\n"
   ]
  },
  {
   "cell_type": "code",
   "execution_count": 53,
   "id": "157216f3",
   "metadata": {},
   "outputs": [
    {
     "name": "stdout",
     "output_type": "stream",
     "text": [
      "Bạn đã nhập: khỏe không em?\n",
      "Kết quả: KKE\n"
     ]
    }
   ],
   "source": [
    "text = input(\"Nhập một câu: \")\n",
    "words = text.split()\n",
    "first_letters = ''.join([word[0].upper() for word in words if word])\n",
    "\n",
    "print(\"Bạn đã nhập:\", text)\n",
    "print(\"Kết quả:\", first_letters)"
   ]
  },
  {
   "attachments": {
    "image.png": {
     "image/png": "[encoded data removed]"
    }
   },
   "cell_type": "markdown",
   "id": "5651e7ad",
   "metadata": {},
   "source": [
    "### Question 2:\n",
    "\n",
    "**Task**\n",
    "\n",
    "As a marketing analyst, you deal with a lot of sources of leads. Calculate how many leads were received in total, how many came from Google, how many came from Facebook, and how many came from other sources.\n",
    "\n",
    "**Input**\n",
    "\n",
    "1 integer `N` - number of leads\n",
    "\n",
    "Then `N` lines of leads in the following format: \"name-source\"\n",
    "\n",
    "**Output**\n",
    "\n",
    "`4` lines of text:\n",
    "\n",
    "Total leads count: `X`<br>\n",
    "Google leads count: `Y`<br>\n",
    "Facebook leads count: `Z`<br>\n",
    "Other leads count: `W`<br>\n",
    "\n",
    "where `X, Y, Z, W` are the numbers you calculated\n",
    "\n",
    "![image.png](attachment:image.png)"
   ]
  },
  {
   "cell_type": "code",
   "execution_count": null,
   "id": "be2038ec",
   "metadata": {},
   "outputs": [],
   "source": [
    "N = int(input())\n",
    "google_count = 0\n",
    "facebook_count = 0\n",
    "other_count = 0\n",
    "\n",
    "for _ in range(N):\n",
    "    lead = input().strip()\n",
    "    _, source = lead.rsplit(\"-\", 1)\n",
    "    if source.lower() == \"google\":\n",
    "        google_count += 1\n",
    "    elif source.lower() == \"facebook\":\n",
    "        facebook_count += 1\n",
    "    else:\n",
    "        other_count += 1\n",
    "\n",
    "print(f\"Total leads count: {N}\")\n",
    "print(f\"Google leads count: {google_count}\")\n",
    "print(f\"Facebook leads count: {facebook_count}\")\n",
    "print(f\"Other leads count: {other_count}\")"
   ]
  },
  {
   "attachments": {
    "image.png": {
     "image/png": "[encoded data removed]"
    }
   },
   "cell_type": "markdown",
   "id": "40154070",
   "metadata": {},
   "source": [
    "### Question 3:\n",
    "\n",
    "**Task**\n",
    "\n",
    "Okay, you've learned how to calculate the number of leads. But that's not enough now! We also need a list of leads.\n",
    "\n",
    "Update your code from the previous task to print the names of leads from Google and Facebook.\n",
    "\n",
    "**Input**\n",
    "\n",
    "1 integer `N` - number of leads\n",
    "\n",
    "Then `N` lines of leads in the following format: \"name-source\"\n",
    "\n",
    "**Output**\n",
    "\n",
    "The following lines of text:\n",
    "\n",
    "Total leads count: `X`\n",
    "Google leads count: `Y`\n",
    "Then `Y` lines with names of Google leads;\n",
    "Facebook leads count: `Z`\n",
    "Then `Z` lines with names of Facebook leads;\n",
    "Other leads count: `W`\n",
    "\n",
    "where `X, Y, Z, W` are the numbers you calculated\n",
    "\n",
    "![image.png](attachment:image.png)"
   ]
  },
  {
   "cell_type": "code",
   "execution_count": null,
   "id": "d4d04d40",
   "metadata": {},
   "outputs": [],
   "source": [
    "# Nhập số lượng leads\n",
    "N = int(input())\n",
    "\n",
    "# Khởi tạo bộ đếm và danh sách lưu tên từng nguồn\n",
    "google_count = 0\n",
    "facebook_count = 0\n",
    "other_count = 0\n",
    "\n",
    "google_names = []\n",
    "facebook_names = []\n",
    "\n",
    "# Lặp qua từng dòng input\n",
    "for _ in range(N):\n",
    "    lead = input().strip()\n",
    "    name, source = lead.rsplit(\"-\", 1)\n",
    "    \n",
    "    source = source.lower()  # chuẩn hóa chữ thường\n",
    "    if source == \"google\":\n",
    "        google_count += 1\n",
    "        google_names.append(name)\n",
    "    elif source == \"facebook\":\n",
    "        facebook_count += 1\n",
    "        facebook_names.append(name)\n",
    "    else:\n",
    "        other_count += 1\n",
    "\n",
    "# In kết quả\n",
    "print(f\"Total leads count: {N}\")\n",
    "\n",
    "print(f\"Google leads count: {google_count}\")\n",
    "for name in google_names:\n",
    "    print(name)\n",
    "\n",
    "print(f\"Facebook leads count: {facebook_count}\")\n",
    "for name in facebook_names:\n",
    "    print(name)\n",
    "\n",
    "print(f\"Other leads count: {other_count}\")"
   ]
  },
  {
   "cell_type": "code",
   "execution_count": 55,
   "id": "1de62993",
   "metadata": {},
   "outputs": [
    {
     "name": "stdout",
     "output_type": "stream",
     "text": [
      "Các số nhập vào: [1, 0, 9, 7, 3, 4]\n",
      "Phần tử trước và sau vị trí 3 là: 9 và 3\n"
     ]
    }
   ],
   "source": [
    "# Nhập một dãy số nguyên cách nhau bởi dấu cách\n",
    "nums = list(map(int, input(\"Nhập các số nguyên (cách nhau bởi dấu cách): \").split()))\n",
    "# map(int, ...) => chuyển từng phần tử sang kiểu int\n",
    "# split() => tách chuỗi input thành list theo dấu cách\n",
    "# list(...) => chuyển map object thành list\n",
    "\n",
    "# Nhập chỉ số k cần kiểm tra\n",
    "k = int(input(\"Nhập vị trí k (bắt đầu từ 0): \"))\n",
    "\n",
    "print('Các số nhập vào:', nums)\n",
    "\n",
    "# Kiểm tra điều kiện hợp lệ để lấy phần tử trước và sau\n",
    "if 0 < k < len(nums) - 1:\n",
    "    print(\"Phần tử trước và sau vị trí\", k, \"là:\", nums[k - 1], \"và\", nums[k + 1])\n",
    "else:\n",
    "    print(\"Lỗi: Không có phần tử bên trái hoặc bên phải tại vị trí k.\")\n"
   ]
  }
 ],
 "metadata": {
  "kernelspec": {
   "display_name": "base",
   "language": "python",
   "name": "python3"
  },
  "language_info": {
   "codemirror_mode": {
    "name": "ipython",
    "version": 3
   },
   "file_extension": ".py",
   "mimetype": "text/x-python",
   "name": "python",
   "nbconvert_exporter": "python",
   "pygments_lexer": "ipython3",
   "version": "3.12.7"
  }
 },
 "nbformat": 4,
 "nbformat_minor": 5
}
