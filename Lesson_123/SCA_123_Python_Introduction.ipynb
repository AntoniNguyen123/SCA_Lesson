{
 "cells": [
  {
   "cell_type": "markdown",
   "id": "7ad93149",
   "metadata": {},
   "source": [
    "# Lecture 1: Python. Introduction"
   ]
  },
  {
   "cell_type": "markdown",
   "id": "a0a6674f",
   "metadata": {},
   "source": [
    "**Tổng quan bài giảng**<br>\n",
    "Trong buổi học, chúng ta sẽ tìm hiểu sâu hơn về Python — một ngôn ngữ lập trình cực kỳ linh hoạt được sử dụng rộng rãi trong phân tích dữ liệu, học máy và nhiều lĩnh vực khác. Lớp học này sẽ đóng vai trò là phần giới thiệu về Python, bao gồm cú pháp cơ bản, ứng dụng trong phân tích dữ liệu và các bài tập lập trình thực hành. Chúng ta hãy cùng nhau bắt đầu hành trình khám phá những điều cơ bản của Python!\n",
    "\n",
    "🔍 Sau đây là những nội dung chúng ta sẽ học:\n",
    "\n",
    "**1. Khám phá Python và các ứng dụng của Python trong phân tích dữ liệu:**\n",
    "\n",
    "- Chúng ta sẽ bắt đầu bằng cách làm quen với Python và hiểu được tầm quan trọng của Python trong lĩnh vực phân tích dữ liệu. Từ thao tác dữ liệu đến phân tích thống kê và trực quan hóa, Python cung cấp nhiều công cụ và thư viện để thực hiện nhiều tác vụ khác nhau.\n",
    "\n",
    "**2. Hiểu sự khác biệt giữa Python và R:**\n",
    "\n",
    "- Python và R là hai trong số những ngôn ngữ lập trình phổ biến nhất để phân tích dữ liệu. Chúng ta sẽ khám phá sự khác biệt giữa chúng, bao gồm điểm mạnh, điểm yếu và các trường hợp sử dụng thông thường, để giúp bạn đưa ra quyết định sáng suốt về việc sử dụng ngôn ngữ nào cho các dự án khác nhau.\n",
    "\n",
    "**3. Học cú pháp cơ bản của Python:**\n",
    "\n",
    "- Chúng ta sẽ tìm hiểu cú pháp cơ bản của Python, bao gồm các khái niệm thiết yếu như:\n",
    "    - Toán tử số học để thực hiện các phép toán.\n",
    "    - Biến để lưu trữ và thao tác dữ liệu.\n",
    "    - Hàm đầu vào và đầu ra để tương tác với người dùng.\n",
    "    - Chuyển đổi kiểu để chuyển đổi dữ liệu giữa các kiểu khác nhau.\n",
    "\n",
    "**4. Viết chương trình bằng Python:**\n",
    "\n",
    "- Chúng ta sẽ áp dụng kiến ​​thức của mình vào thực tế bằng cách viết một số chương trình bằng Python. Các bài tập này sẽ giúp củng cố sự hiểu biết của bạn về cú pháp Python và các khái niệm lập trình.\n",
    "\n",
    "**5. Giải quyết các vấn đề thuật toán:**\n",
    "\n",
    "- Để nâng cao kỹ năng giải quyết vấn đề, chúng ta sẽ giải quyết một số vấn đề thuật toán có nhiều mức độ khó khác nhau. Phương pháp thực hành này sẽ thử thách bạn áp dụng các kỹ năng Python mới học được vào các tình huống thực tế."
   ]
  },
  {
   "cell_type": "markdown",
   "id": "f5bca4d8",
   "metadata": {},
   "source": [
    "## 🧑‍🏫 Classwork"
   ]
  },
  {
   "cell_type": "markdown",
   "id": "282b12af",
   "metadata": {},
   "source": [
    "### ✅ First programming tasks"
   ]
  },
  {
   "cell_type": "markdown",
   "id": "9e36d2fd",
   "metadata": {},
   "source": [
    "#### Question 1:"
   ]
  },
  {
   "cell_type": "markdown",
   "id": "15690ded",
   "metadata": {},
   "source": [
    "##### Xin chúc mừng, bạn đã trở thành một nhà phân tích dữ liệu! Chào mừng đến với văn phòng của chúng tôi!\n",
    "Các nhà phân tích ở đây làm việc theo hai ca: có những người **\"dậy sớm\"** và có những người \"thức khuya\". Bạn sẽ tham gia nhóm nào? Nhưng trước tiên, bạn cần đếm tổng số nhà phân tích mà chúng tôi có.\n",
    "\n",
    "Trong số các nhà phân tích, có một người \"dậy sớm\" và một người \"thức khuya\".\n",
    "\n",
    "Viết một chương trình sẽ đếm số lượng lập trình viên làm việc trong văn phòng, dựa trên các giá trị *'a'* và *'b'* đã cho."
   ]
  },
  {
   "cell_type": "code",
   "execution_count": null,
   "id": "c9acecf9",
   "metadata": {},
   "outputs": [
    {
     "name": "stdout",
     "output_type": "stream",
     "text": [
      "Tổng số IT làm việc:  27\n"
     ]
    }
   ],
   "source": [
    "# Đáp án câu 1:\n",
    "a = int(input('Nhập số lượng IT dậy sớm: '))\n",
    "b = int(input('Nhập số lượng IT thức khuya: '))\n",
    "total_analysts = a + b\n",
    "print('Tổng số IT làm việc: ', total_analysts)"
   ]
  },
  {
   "cell_type": "markdown",
   "id": "6f705232",
   "metadata": {},
   "source": [
    "#### Question 2: Hãy xem các nhà phân tích của chúng ta làm việc nhanh như thế nào!\n",
    "\n",
    "Bạn đã tính thời gian và đếm được rằng một nhà phân tích gõ *n* ký tự mỗi phút.\n",
    "Viết một chương trình sẽ tính toán số ký tự mà một nhà phân tích sẽ gõ trong một giờ mà không bị mất tập trung."
   ]
  },
  {
   "cell_type": "code",
   "execution_count": null,
   "id": "8aeebbcc",
   "metadata": {},
   "outputs": [
    {
     "name": "stdout",
     "output_type": "stream",
     "text": [
      "Số ký tự key trong mỗi giờ là:  6000 ký tự\n"
     ]
    }
   ],
   "source": [
    "# Đáp án câu 2:\n",
    "\n",
    "n = int(input('Số ký tự key trong mỗi phút: '))\n",
    "characters = n * 60\n",
    "print('Số ký tự key trong mỗi giờ là: ', characters, 'ký tự')"
   ]
  },
  {
   "cell_type": "markdown",
   "id": "c2974119",
   "metadata": {},
   "source": [
    "#### Question 3: Như chúng ta đã biết, tất cả các nhà phân tích đều thích mèo!\n",
    "\n",
    "*n* đồng nghiệp của bạn có một con mèo, *m* đồng nghiệp có hai con mèo và trưởng phòng có bốn con mèo.\n",
    "Viết một chương trình sẽ đếm **tổng số mèo trong số tất cả các nhân viên** phòng ban.\n",
    "\n",
    "**Định dạng đầu vào**<br>\n",
    "Hai số nguyên:\n",
    "\n",
    "- *n*: số nhà phân tích có một con mèo<br>\n",
    "- *m*: số nhà phân tích có hai con mèo.<br>\n",
    "\n",
    "**Định dạng đầu ra**<br>\n",
    "Chuỗi *\"Mèo: c\"*, trong đó *c* là tổng số mèo"
   ]
  },
  {
   "cell_type": "code",
   "execution_count": 1,
   "id": "59bc1033",
   "metadata": {},
   "outputs": [
    {
     "name": "stdout",
     "output_type": "stream",
     "text": [
      "Tổng số mèo của tất cả nhân viên (cả sếp) là:  20\n"
     ]
    }
   ],
   "source": [
    "# Đáp án câu 3:\n",
    "\n",
    "# Nhập số lượng nhân viên có mèo\n",
    "n = int(input('Số lượng nhân viên có 1 con mèo: '))  # Số lượng nhân viên có 1 con mèo\n",
    "m = int(input('Số lượng nhân viên có 2 con mèo: '))  # Số lượng nhân viên có 2 con mèo\n",
    "\n",
    "# Tính tổng số mèo\n",
    "total_cats = n * 1 + m * 2 + 4  # Tổng số mèo = số lượng nhân viên có 1 mèo * 1 + số lượng nhân viên có 2 mèo * 2 + 4 con mèo của trưởng phòng\n",
    "\n",
    "# In kết quả theo định dạng yêu cầu\n",
    "print(\"Tổng số mèo của tất cả nhân viên (cả sếp) là: \",total_cats)"
   ]
  },
  {
   "cell_type": "code",
   "execution_count": null,
   "id": "6d1e6ffd",
   "metadata": {},
   "outputs": [
    {
     "name": "stdout",
     "output_type": "stream",
     "text": [
      "Số lượng nhân viên có 1 con mèo:  4 người\n",
      "Số lượng nhân viên có 2 con mèo:  9 người\n",
      "Tổng số mèo của sếp là 4 con\n",
      "Tổng số mèo của tất cả nhân viên (cả sếp) là:  26\n"
     ]
    }
   ],
   "source": [
    "# Đáp án câu 3: (Solution 2) Hoặc in ra các input:\n",
    "# Nhập số lượng nhân viên có mèo\n",
    "n = int(input('Số lượng nhân viên có 1 con mèo: '))  # Số lượng nhân viên có 1 con mèo\n",
    "m = int(input('Số lượng nhân viên có 2 con mèo: '))  # Số lượng nhân viên có 2 con mèo\n",
    "\n",
    "print('Số lượng nhân viên có 1 con mèo: ', n, 'người')\n",
    "print('Số lượng nhân viên có 2 con mèo: ', m, 'người')\n",
    "print('Tổng số mèo của sếp là 4 con')\n",
    "# Tính tổng số mèo\n",
    "total_cats = n * 1 + m * 2 + 4  # Tổng số mèo = số lượng nhân viên có 1 mèo * 1 + số lượng nhân viên có 2 mèo * 2 + 4 con mèo của trưởng phòng\n",
    "\n",
    "# In kết quả theo định dạng yêu cầu\n",
    "print(\"Tổng số mèo của tất cả nhân viên (cả sếp) là: \",total_cats)"
   ]
  },
  {
   "cell_type": "markdown",
   "id": "23e5c7a2",
   "metadata": {},
   "source": [
    "#### Question 4: Để ăn mừng công việc mới, bạn quyết định tổ chức một bữa tiệc. Đối với bữa tiệc, bạn sẽ cần đồ giải khát, nghĩa là bạn cần tính toán ngân sách.\n",
    "\n",
    "Tuy nhiên, bạn vừa mới bắt đầu công việc mới, vì vậy ngân sách của bạn có hạn. Trong hoàn cảnh hiện tại, bạn sẵn sàng chi tổng cộng *n* đô la.\n",
    "\n",
    "Bạn dự định mời *m* người bạn đến dự tiệc.\n",
    "\n",
    "Viết chương trình tính toán ngân sách trung bình cho mỗi khách với những ràng buộc này.\n",
    "\n",
    "**Định dạng đầu vào**\n",
    "\n",
    "Hai số nguyên: *n* - tổng ngân sách, *m* - số lượng khách.\n",
    "\n",
    "**Định dạng đầu ra**\n",
    "\n",
    "Cụm từ \"*k* đô la\", trong đó *k* là ngân sách trung bình cho mỗi khách."
   ]
  },
  {
   "cell_type": "code",
   "execution_count": null,
   "id": "b41809db",
   "metadata": {},
   "outputs": [
    {
     "name": "stdout",
     "output_type": "stream",
     "text": [
      "12\n"
     ]
    }
   ],
   "source": [
    "# Đáp án câu 4: (Solution 1)\n",
    "n = int(input())\n",
    "m = int(input())\n",
    "chi_phi = n // m    \n",
    "if m <= 0:\n",
    "    chi_phi = 0\n",
    "else:\n",
    "    chi_phi = n // m\n",
    "print(chi_phi)"
   ]
  },
  {
   "cell_type": "code",
   "execution_count": 11,
   "id": "bbe11270",
   "metadata": {},
   "outputs": [
    {
     "name": "stdout",
     "output_type": "stream",
     "text": [
      "Tổng chi phí bữa tiệc là:  101 $\n",
      "Số lượng khách tham gia tiệc:  5 Người\n",
      "Ngân sách trung bình cho mỗi khách là:  20 $\n"
     ]
    }
   ],
   "source": [
    "# Đáp án câu 4: Solution 2---Ghi chú khi input\n",
    "n = int(input('Tổng chi phí bữa tiệc là: '))\n",
    "m = int(input('Số lượng khách tham gia tiệc: '))\n",
    "\n",
    "print('Tổng chi phí bữa tiệc là: ', n, '$')\n",
    "print('Số lượng khách tham gia tiệc: ', m, 'Người')\n",
    "\n",
    "chi_phi = n // m    \n",
    "if m <= 0:\n",
    "    chi_phi = 0\n",
    "else:\n",
    "    chi_phi = n // m\n",
    "print('Ngân sách trung bình cho mỗi khách là: ', chi_phi, '$')"
   ]
  },
  {
   "cell_type": "code",
   "execution_count": 17,
   "id": "008a37e4",
   "metadata": {},
   "outputs": [
    {
     "name": "stdout",
     "output_type": "stream",
     "text": [
      "Tổng chi phí bữa tiệc là:  1000.9 $\n",
      "Số lượng khách tham gia tiệc:  7 Người\n",
      "Ngân sách trung bình cho mỗi khách là:  142.9857142857143 $\n"
     ]
    }
   ],
   "source": [
    "# Đáp án câu 4: Solution 3---Ghi chú khi input + output ra float\n",
    "n = float(input('Tổng chi phí bữa tiệc là: '))\n",
    "m = int(input('Số lượng khách tham gia tiệc: '))\n",
    "\n",
    "print('Tổng chi phí bữa tiệc là: ', n, '$')\n",
    "print('Số lượng khách tham gia tiệc: ', m, 'Người')\n",
    "\n",
    "chi_phi = n / m    \n",
    "if m <= 0:\n",
    "    chi_phi = 0\n",
    "else:\n",
    "    chi_phi = n / m\n",
    "print('Ngân sách trung bình cho mỗi khách là: ', chi_phi, '$')"
   ]
  },
  {
   "cell_type": "code",
   "execution_count": null,
   "id": "cf5673d1",
   "metadata": {},
   "outputs": [
    {
     "name": "stdout",
     "output_type": "stream",
     "text": [
      "Tổng chi phí bữa tiệc là:  1000.9 $\n",
      "Số lượng khách tham gia tiệc:  7 Người\n",
      "Ngân sách trung bình cho mỗi khách là:  142.99 $\n"
     ]
    }
   ],
   "source": [
    "# Đáp án câu 4: Solution 4---Ghi chú khi input + output ra float và lấy 2 ký tự sau thập phân\n",
    "n = float(input('Tổng chi phí bữa tiệc là: '))\n",
    "m = int(input('Số lượng khách tham gia tiệc: '))\n",
    "\n",
    "print('Tổng chi phí bữa tiệc là: ', n, '$')\n",
    "print('Số lượng khách tham gia tiệc: ', m, 'Người')\n",
    "\n",
    "chi_phi = n / m    \n",
    "if m <= 0:\n",
    "    chi_phi = 0\n",
    "else:\n",
    "    chi_phi = n / m\n",
    "print('Ngân sách trung bình cho mỗi khách là: ', round(chi_phi, 2), '$')"
   ]
  },
  {
   "cell_type": "markdown",
   "id": "2b3ebc7b",
   "metadata": {},
   "source": [
    "#### Question 5: Bạn đã bắt đầu chuẩn bị cho bữa tiệc. Nhưng bữa tiệc nào có thể thiếu bóng bay? Hai người bạn của bạn đã đến giúp bạn việc này.\n",
    "\n",
    "John thổi phồng *j* quả bóng bay mỗi giờ và Mark thổi phồng *m* quả bóng bay. Họ sẽ thổi phồng được bao nhiêu quả bóng bay cùng nhau trong *h* giờ?\n",
    "\n",
    "Viết một chương trình hiển thị câu trả lời cho bài toán đã chỉ định.\n",
    "\n",
    "Định dạng đầu vào\n",
    "Chương trình được cung cấp ba số tự nhiên *n*, *s* và *h* làm đầu vào, mỗi số trên một dòng riêng biệt. Tất cả các số đầu vào không lớn hơn 1000.\n",
    "\n",
    "Định dạng đầu ra\n",
    "Chương trình sẽ xuất ra một số nguyên: tổng số bóng bay mà John và Mark sẽ thổi phồng trong *h* giờ."
   ]
  },
  {
   "cell_type": "code",
   "execution_count": null,
   "id": "41ad09a2",
   "metadata": {},
   "outputs": [
    {
     "name": "stdout",
     "output_type": "stream",
     "text": [
      "Số bóng cho John là:  12\n",
      "Số bóng cho Marl là:  4\n",
      "Tổng giờ thực hiện:  8\n",
      "Tổng số bóng đã sử dụng là:  128\n"
     ]
    }
   ],
   "source": [
    "# Đáp án câu 5: (Solution 1)\n",
    "\n",
    "j = int(input('Số bóng cho John: '))    #Bóng cho John\n",
    "m = int(input('Số bóng cho Marl: '))    #Bóng cho Marl\n",
    "h = int(input('Tổng giờ thực hiện: '))    #Giờ\n",
    "\n",
    "print('Số bóng cho John là: ',j)   \n",
    "print('Số bóng cho Marl là: ',m)   \n",
    "print('Tổng giờ thực hiện: ',h)    \n",
    "\n",
    "total_balloons = (j + m) * h\n",
    "print('Tổng số bóng đã sử dụng là: ', total_balloons)"
   ]
  },
  {
   "cell_type": "code",
   "execution_count": null,
   "id": "18fa06e2",
   "metadata": {},
   "outputs": [
    {
     "name": "stdout",
     "output_type": "stream",
     "text": [
      "Số bóng cho John là:  33\n",
      "Số bóng cho Marl là:  45\n",
      "Tổng giờ thực hiện:  2\n",
      "Tổng số bóng đã sử dụng là:  156\n"
     ]
    }
   ],
   "source": [
    "# Đáp án câu 5: Solution 2 (Kết quả sẽ cảnh báo nếu input quá 1000 nhưng vẫn ra kết quả):\n",
    "j = int(input('Số bóng cho John: '))\n",
    "if j > 1000:\n",
    "    print('⚠️ Cảnh báo: Số bóng cho John vượt quá 1000!')\n",
    "\n",
    "m = int(input('Số bóng cho Marl: '))\n",
    "if m > 1000:\n",
    "    print('⚠️ Cảnh báo: Số bóng cho Marl vượt quá 1000!')\n",
    "\n",
    "h = int(input('Tổng giờ thực hiện: '))\n",
    "if h > 1000:\n",
    "    print('⚠️ Cảnh báo: Số giờ vượt quá 1000!')\n",
    "\n",
    "print('Số bóng cho John là: ', j)\n",
    "print('Số bóng cho Marl là: ', m)\n",
    "print('Tổng giờ thực hiện: ', h)\n",
    "\n",
    "total_balloons = (j + m) * h\n",
    "print('Tổng số bóng đã sử dụng là: ', total_balloons)\n"
   ]
  },
  {
   "cell_type": "code",
   "execution_count": null,
   "id": "7033acff",
   "metadata": {},
   "outputs": [
    {
     "name": "stdout",
     "output_type": "stream",
     "text": [
      "Số bóng cho John là:  50\n",
      "Số bóng cho Marl là:  5\n",
      "Tổng giờ thực hiện:  4\n",
      "Tổng số bóng đã sử dụng là:  220\n"
     ]
    }
   ],
   "source": [
    "# Đáp án câu 5: (Solution 3) khống chế số lượng 1000 bằng cách if---else\n",
    "\n",
    "j = int(input('Số bóng cho John: '))\n",
    "if j > 1000:\n",
    "    print('❌ Lỗi: Số bóng cho John vượt quá 1000. Dừng chương trình.')\n",
    "else:\n",
    "    m = int(input('Số bóng cho Marl: '))\n",
    "    if m > 1000:\n",
    "        print('❌ Lỗi: Số bóng cho Marl vượt quá 1000. Dừng chương trình.')\n",
    "    else:\n",
    "        h = int(input('Tổng giờ thực hiện: '))\n",
    "        if h > 1000:\n",
    "            print('❌ Lỗi: Số giờ vượt quá 1000. Dừng chương trình.')\n",
    "        else:\n",
    "            print('Số bóng cho John là: ', j)\n",
    "            print('Số bóng cho Marl là: ', m)\n",
    "            print('Tổng giờ thực hiện: ', h)\n",
    "            total_balloons = (j + m) * h\n",
    "            print('Tổng số bóng đã sử dụng là: ', total_balloons)\n"
   ]
  },
  {
   "cell_type": "markdown",
   "id": "4b7ce1c0",
   "metadata": {},
   "source": [
    "## 😎 Classwork (hard mode)"
   ]
  },
  {
   "cell_type": "markdown",
   "id": "e7841238",
   "metadata": {},
   "source": [
    "### ✅ More complicated tasks for the toughest ones"
   ]
  },
  {
   "cell_type": "markdown",
   "id": "298b7698",
   "metadata": {},
   "source": [
    "#### Question 1: Bạn được cung cấp số phút - *n*. Biểu diễn theo định dạng sau: \"*h* giờ, *m* phút\".\n",
    "\n",
    "**Định dạng đầu vào**<br>\n",
    "Số nguyên *n* - số phút\n",
    "\n",
    "**Định dạng đầu ra**<br>\n",
    "Chuỗi \"*h* giờ, *m* phút\", trong đó *h* - số giờ tối đa có thể loại trừ khỏi số phút đã cho, *m* - số phút"
   ]
  },
  {
   "cell_type": "code",
   "execution_count": 22,
   "id": "c8886b17",
   "metadata": {},
   "outputs": [
    {
     "name": "stdout",
     "output_type": "stream",
     "text": [
      "166 hours, 45 minutes\n"
     ]
    }
   ],
   "source": [
    "# Đáp án câu 1: (Solution 1)\n",
    "# Nhập số phút từ người dùng\n",
    "n = int(input())\n",
    "\n",
    "# Tính số giờ và số phút\n",
    "hours = n // 60\n",
    "minutes = n % 60\n",
    "\n",
    "# In kết quả\n",
    "print(f\"{hours} hours, {minutes} minutes\")"
   ]
  },
  {
   "cell_type": "code",
   "execution_count": 29,
   "id": "2ea06b3b",
   "metadata": {},
   "outputs": [
    {
     "name": "stdout",
     "output_type": "stream",
     "text": [
      "Chuyển sang giờ và phút:  2 hours, 13 minutes\n"
     ]
    }
   ],
   "source": [
    "# Đáp án câu 1: (Solution 2) Ghi chú khi nhập và in kết quả\n",
    "# Nhập số phút từ người dùng\n",
    "n = int(input('Nhập số phút từ người dùng: '))\n",
    "\n",
    "# Tính số giờ và số phút\n",
    "hours = n // 60\n",
    "minutes = n % 60\n",
    "\n",
    "# In kết quả\n",
    "#print(f\"{hours} hours, {minutes} minutes\")\n",
    "print('Chuyển sang giờ và phút: ', f'{hours} hours, {minutes} minutes')\n"
   ]
  },
  {
   "cell_type": "code",
   "execution_count": 30,
   "id": "37e3570f",
   "metadata": {},
   "outputs": [
    {
     "name": "stdout",
     "output_type": "stream",
     "text": [
      "Chuyển sang giờ và phút: 2 hours, 46 minutes\n"
     ]
    }
   ],
   "source": [
    "# Đáp án câu 1: (Solution 3) Ghi chú khi nhập và in kết quả + định dạng '{}'.format:\n",
    "# Nhập số phút từ người dùng\n",
    "n = int(input('Nhập số phút từ người dùng: '))\n",
    "\n",
    "# Tính số giờ và số phút\n",
    "hours = n // 60\n",
    "minutes = n % 60\n",
    "\n",
    "# In kết quả\n",
    "#print(f\"{hours} hours, {minutes} minutes\")\n",
    "#print('Chuyển sang giờ và phút: ', f'{hours} hours, {minutes} minutes')\n",
    "print('Chuyển sang giờ và phút: {} hours, {} minutes'.format(hours, minutes))"
   ]
  },
  {
   "cell_type": "markdown",
   "id": "130a734a",
   "metadata": {},
   "source": [
    "#### Question 2: Viết chương trình tính khoảng cách giữa hai chiếc xe.\n",
    "\n",
    "Ban đầu, khoảng cách giữa hai chiếc xe là *s* km, sau đó hai chiếc xe bắt đầu di chuyển ra xa nhau với tốc độ *v1* và *v2* km/h trong *t* giờ.\n",
    "\n",
    "**Định dạng đầu vào**<br>\n",
    "Chương trình lấy bốn số nguyên *v1*, *v2*, *s* và *t* làm đầu vào, được viết trên các dòng riêng biệt - tốc độ của hai chiếc xe, khoảng cách ban đầu giữa chúng và thời gian chúng di chuyển ra xa nhau (0≤ *v1*,*v2*,*s*,*t* ≤10000).\n",
    "\n",
    "**Định dạng đầu ra**<br>\n",
    "Chương trình sẽ xuất ra ***khoảng cách cuối cùng giữa hai chiếc xe*** (tính bằng kilômét)."
   ]
  },
  {
   "cell_type": "code",
   "execution_count": null,
   "id": "fbb3c691",
   "metadata": {},
   "outputs": [],
   "source": [
    "# Đáp án câu 2: (Solution 1)\n",
    "# Nhập các giá trị v1, v2, s, t từ người dùng\n",
    "v1 = int(input('Tốc độ xe thứ nhất (km/h): '))  # Tốc độ xe thứ nhất (km/h)\n",
    "v2 = int(input('Tốc độ xe thứ hai (km/h): '))  # Tốc độ xe thứ hai (km/h)\n",
    "s = int(input('Khoảng cách ban đầu giữa hai xe (km): '))   # Khoảng cách ban đầu giữa hai xe (km)\n",
    "t = int(input('Thời gian di chuyển (giờ): '))   # Thời gian di chuyển (giờ)\n",
    "\n",
    "# Tính khoảng cách cuối cùng giữa hai xe\n",
    "final_distance = s + (v1 + v2) * t\n",
    "\n",
    "# In kết quả theo định dạng yêu cầu\n",
    "print('Khoảng cách cuối cùng giữa hai xe là (km): ', final_distance)"
   ]
  },
  {
   "cell_type": "code",
   "execution_count": 10,
   "id": "c248330c",
   "metadata": {},
   "outputs": [
    {
     "name": "stdout",
     "output_type": "stream",
     "text": [
      "Tốc độ xe thứ nhất (km/h):  88\n",
      "Tốc độ xe thứ hai (km/h):  78\n",
      "Khoảng cách ban đầu giữa hai xe (km):  5\n",
      "Thời gian di chuyển (giờ):  90\n",
      "Khoảng cách cuối cùng giữa hai xe là (km):  14945\n"
     ]
    }
   ],
   "source": [
    "# Đáp án câu 2: (Solution 2) In rõ các input và kết quả\n",
    "# Nhập các giá trị v1, v2, s, t từ người dùng\n",
    "v1 = int(input('Tốc độ xe thứ nhất (km/h): '))  # Tốc độ xe thứ nhất (km/h)\n",
    "v2 = int(input('Tốc độ xe thứ hai (km/h): '))  # Tốc độ xe thứ hai (km/h)\n",
    "s = int(input('Khoảng cách ban đầu giữa hai xe (km): '))   # Khoảng cách ban đầu giữa hai xe (km)\n",
    "t = int(input('Thời gian di chuyển (giờ): '))   # Thời gian di chuyển (giờ)\n",
    "\n",
    "# Tính khoảng cách cuối cùng giữa hai xe\n",
    "final_distance = s + (v1 + v2) * t\n",
    "\n",
    "print('Tốc độ xe thứ nhất (km/h): ', v1)\n",
    "print('Tốc độ xe thứ hai (km/h): ', v2)\n",
    "print('Khoảng cách ban đầu giữa hai xe (km): ', s)\n",
    "print('Thời gian di chuyển (giờ): ', t)\n",
    "\n",
    "# In kết quả theo định dạng yêu cầu\n",
    "print('Khoảng cách cuối cùng giữa hai xe là (km): ', final_distance)"
   ]
  },
  {
   "cell_type": "code",
   "execution_count": 12,
   "id": "b9eb91b1",
   "metadata": {},
   "outputs": [
    {
     "name": "stdout",
     "output_type": "stream",
     "text": [
      "Tốc độ xe thứ nhất (km/h):  80.0\n",
      "Tốc độ xe thứ hai (km/h):  90.0\n",
      "Khoảng cách ban đầu giữa hai xe (km):  5.0\n",
      "Thời gian di chuyển (giờ):  3.0\n",
      "Khoảng cách cuối cùng giữa hai xe là (km):  515.0\n"
     ]
    }
   ],
   "source": [
    "# Đáp án câu 2: (Solution 3) In rõ các input và kết quả\n",
    "# Nhập các giá trị v1, v2, s, t từ người dùng (dạng float)\n",
    "v1 = float(input('Tốc độ xe thứ nhất (km/h): '))  # Tốc độ xe thứ nhất (km/h)\n",
    "v2 = float(input('Tốc độ xe thứ hai (km/h): '))  # Tốc độ xe thứ hai (km/h)\n",
    "s = float(input('Khoảng cách ban đầu giữa hai xe (km): '))   # Khoảng cách ban đầu giữa hai xe (km)\n",
    "t = float(input('Thời gian di chuyển (giờ): '))   # Thời gian di chuyển (giờ)\n",
    "\n",
    "# Tính khoảng cách cuối cùng giữa hai xe\n",
    "final_distance = s + (v1 + v2) * t\n",
    "\n",
    "print('Tốc độ xe thứ nhất (km/h): ', v1)\n",
    "print('Tốc độ xe thứ hai (km/h): ', v2)\n",
    "print('Khoảng cách ban đầu giữa hai xe (km): ', s)\n",
    "print('Thời gian di chuyển (giờ): ', t)\n",
    "\n",
    "# In kết quả theo định dạng yêu cầu\n",
    "print('Khoảng cách cuối cùng giữa hai xe là (km): ', final_distance)"
   ]
  },
  {
   "cell_type": "code",
   "execution_count": null,
   "id": "ba6380f6",
   "metadata": {},
   "outputs": [
    {
     "name": "stdout",
     "output_type": "stream",
     "text": [
      "⚠️ Cảnh báo: Thời gian vượt quá 10000 giờ.\n",
      "\n",
      "--- KẾT QUẢ ---\n",
      "Tốc độ xe thứ nhất (km/h): 90.0\n",
      "Tốc độ xe thứ hai (km/h): 77.0\n",
      "Khoảng cách ban đầu giữa hai xe (km): 3.0\n",
      "Thời gian di chuyển (giờ): 11000.0\n",
      "📌 Khoảng cách cuối cùng giữa hai xe là (km): 1837003.0\n"
     ]
    }
   ],
   "source": [
    "# Đáp án câu 2: (Solution 4) In rõ các input và kết quả (có cảnh báo nếu input lớn hơn 10000)\n",
    "# Nhập các giá trị v1, v2, s, t từ người dùng (dạng float)\n",
    "v1 = float(input('Tốc độ xe thứ nhất (km/h): '))\n",
    "if v1 > 10000:\n",
    "    print('⚠️ Cảnh báo: Tốc độ xe thứ nhất vượt quá 10000 km/h.')\n",
    "\n",
    "v2 = float(input('Tốc độ xe thứ hai (km/h): '))\n",
    "if v2 > 10000:\n",
    "    print('⚠️ Cảnh báo: Tốc độ xe thứ hai vượt quá 10000 km/h.')\n",
    "\n",
    "s = float(input('Khoảng cách ban đầu giữa hai xe (km): '))\n",
    "if s > 10000:\n",
    "    print('⚠️ Cảnh báo: Khoảng cách ban đầu vượt quá 10000 km.')\n",
    "\n",
    "t = float(input('Thời gian di chuyển (giờ): '))\n",
    "if t > 10000:\n",
    "    print('⚠️ Cảnh báo: Thời gian vượt quá 10000 giờ.')\n",
    "\n",
    "# Tính khoảng cách cuối cùng giữa hai xe\n",
    "final_distance = s + (v1 + v2) * t\n",
    "\n",
    "# In chi tiết các giá trị và kết quả\n",
    "print('\\n--- KẾT QUẢ ---')\n",
    "print('Tốc độ xe thứ nhất (km/h):', v1)\n",
    "print('Tốc độ xe thứ hai (km/h):', v2)\n",
    "print('Khoảng cách ban đầu giữa hai xe (km):', s)\n",
    "print('Thời gian di chuyển (giờ):', t)\n",
    "print('📌 Khoảng cách cuối cùng giữa hai xe là (km):', final_distance)\n"
   ]
  },
  {
   "cell_type": "code",
   "execution_count": null,
   "id": "1ca7fcfa",
   "metadata": {},
   "outputs": [
    {
     "name": "stdout",
     "output_type": "stream",
     "text": [
      "❌ Lỗi: Khoảng cách ban đầu vượt quá 10000 km. Chương trình dừng lại.\n"
     ]
    }
   ],
   "source": [
    "# Đáp án câu 2: (Solution 5)\n",
    "import sys\n",
    "\n",
    "try:\n",
    "    v1 = float(input('Tốc độ xe thứ nhất (km/h): '))\n",
    "    if v1 > 10000:\n",
    "        print('❌ Lỗi: Tốc độ xe thứ nhất vượt quá 10000 km/h. Chương trình dừng lại.')\n",
    "        sys.exit()\n",
    "\n",
    "    v2 = float(input('Tốc độ xe thứ hai (km/h): '))\n",
    "    if v2 > 10000:\n",
    "        print('❌ Lỗi: Tốc độ xe thứ hai vượt quá 10000 km/h. Chương trình dừng lại.')\n",
    "        sys.exit()\n",
    "\n",
    "    s = float(input('Khoảng cách ban đầu giữa hai xe (km): '))\n",
    "    if s > 10000:\n",
    "        print('❌ Lỗi: Khoảng cách ban đầu vượt quá 10000 km. Chương trình dừng lại.')\n",
    "        sys.exit()\n",
    "\n",
    "    t = float(input('Thời gian di chuyển (giờ): '))\n",
    "    if t > 10000:\n",
    "        print('❌ Lỗi: Thời gian vượt quá 10000 giờ. Chương trình dừng lại.')\n",
    "        sys.exit()\n",
    "\n",
    "    # In các giá trị nhập\n",
    "    print('\\nTốc độ xe thứ nhất (km/h):', v1)\n",
    "    print('Tốc độ xe thứ hai (km/h):', v2)\n",
    "    print('Khoảng cách ban đầu giữa hai xe (km):', s)\n",
    "    print('Thời gian di chuyển (giờ):', t)\n",
    "\n",
    "    # Tính và in kết quả\n",
    "    final_distance = s + (v1 + v2) * t\n",
    "    print('📌 Khoảng cách cuối cùng giữa hai xe là (km):', final_distance)\n",
    "\n",
    "except SystemExit:\n",
    "    pass  # Ngăn hiển thị traceback cảnh báo trong Jupyter\n",
    "\n"
   ]
  },
  {
   "cell_type": "markdown",
   "id": "5f8c5b29",
   "metadata": {},
   "source": [
    "#### Question 3: Có một tòa nhà cao vô hạn với các căn hộ được đánh số bắt đầu từ một. Bạn được cung cấp số căn hộ N. Xác định căn hộ này nằm ở tầng nào, nếu có 12 căn hộ trên mỗi tầng.\n",
    "\n",
    "**Định dạng đầu vào**<br>\n",
    "Một số nguyên N, một số dương không quá 109.\n",
    "\n",
    "**Định dạng đầu ra**<br>\n",
    "Một số nguyên - số tầng nơi căn hộ tọa lạc."
   ]
  },
  {
   "cell_type": "code",
   "execution_count": null,
   "id": "ccc1b3f9",
   "metadata": {},
   "outputs": [
    {
     "name": "stdout",
     "output_type": "stream",
     "text": [
      "2\n"
     ]
    }
   ],
   "source": [
    "# Đáp án câu 3: (Solution 1)\n",
    "# Nhập số căn hộ N từ người dùng\n",
    "N = int(input('Nhập số căn hộ N của người dùng: ').strip())\n",
    "\n",
    "# Tính tầng chứa căn hộ N\n",
    "floor = (N - 1) // 12 + 1\n",
    "\n",
    "# In kết quả theo định dạng yêu cầu\n",
    "print(floor)"
   ]
  },
  {
   "cell_type": "code",
   "execution_count": 4,
   "id": "c08307c9",
   "metadata": {},
   "outputs": [
    {
     "name": "stdout",
     "output_type": "stream",
     "text": [
      "Số căn hộ N của người dùng là: 108\n",
      "Tầng chứa căn hộ N là:  9\n"
     ]
    }
   ],
   "source": [
    "# Đáp án câu 3: (Solution 2) Ghi chú hi nhập và in kết quả\n",
    "# Nhập số căn hộ N từ người dùng\n",
    "N = int(input('Nhập số căn hộ N của người dùng: ').strip())\n",
    "\n",
    "# Tính tầng chứa căn hộ N\n",
    "floor = (N - 1) // 12 + 1\n",
    "\n",
    "# In kết quả theo định dạng yêu cầu\n",
    "print('Số căn hộ N của người dùng là:', N)\n",
    "print('Tầng chứa căn hộ N là: ',floor)"
   ]
  },
  {
   "cell_type": "markdown",
   "id": "97bc5fdc",
   "metadata": {},
   "source": [
    "\n",
    "## ✍🏻 Homework"
   ]
  },
  {
   "cell_type": "markdown",
   "id": "f46f569c",
   "metadata": {},
   "source": [
    "### ✅ Hometask"
   ]
  },
  {
   "cell_type": "markdown",
   "id": "212c45f6",
   "metadata": {},
   "source": [
    "#### Question 1: Bạn đã làm việc tốt và đang trên đường về nhà. Khi bạn rời khỏi văn phòng, bạn kiểm tra thời gian - hiện tại là m o'clock.\n",
    "\n",
    "Bạn nhớ rằng bạn đã đến văn phòng lúc *n* oclock.<br>\n",
    "Viết một chương trình tính toán bạn đã dành bao nhiêu giờ ở văn phòng.\n",
    "\n",
    "**Định dạng đầu vào**<br>\n",
    "Hai số nguyên: *n* - thời gian bạn đến văn phòng, *m* - thời gian bạn rời khỏi văn phòng.\n",
    "\n",
    "n < m\n",
    "\n",
    "Thời gian được đưa ra trong phạm vi từ 0 đến 24.<br>\n",
    "\n",
    "**Định dạng đầu ra**<br>\n",
    "Một số nguyên: bạn đã dành bao nhiêu giờ ở văn phòng."
   ]
  },
  {
   "cell_type": "code",
   "execution_count": 7,
   "id": "419f9475",
   "metadata": {},
   "outputs": [
    {
     "name": "stdout",
     "output_type": "stream",
     "text": [
      "Thời gian có mặt tại văn phòng:  10\n"
     ]
    }
   ],
   "source": [
    "# Đáp án câu 1: (Solution 1)\n",
    "n = int(input('Thời gian vô văn phòng: '))\n",
    "m = int(input('Thời gian rời văn phòng: '))\n",
    "hours = m - n\n",
    "print('Thời gian có mặt tại văn phòng: ', hours)"
   ]
  },
  {
   "cell_type": "code",
   "execution_count": null,
   "id": "6ab1f3bb",
   "metadata": {},
   "outputs": [
    {
     "name": "stdout",
     "output_type": "stream",
     "text": [
      "❌ Lỗi: Thời gian rời văn phòng phải trong khoảng 0 đến 24. Chương trình dừng lại.\n"
     ]
    }
   ],
   "source": [
    "# Đáp án câu 1: (Solution 2) Giới hạn thời gian nhập vào từ 0 đến 24\n",
    "def main():\n",
    "    # Nhập thời gian vô văn phòng\n",
    "    n = int(input('Thời gian vô văn phòng (0-24): '))\n",
    "    if n < 0 or n > 24:\n",
    "        print('❌ Lỗi: Thời gian vô văn phòng phải trong khoảng 0 đến 24. Chương trình dừng lại.')\n",
    "        return  # Dừng lại an toàn\n",
    "\n",
    "    # Nhập thời gian rời văn phòng\n",
    "    m = int(input('Thời gian rời văn phòng (0-24): '))\n",
    "    if m < 0 or m > 24:\n",
    "        print('❌ Lỗi: Thời gian rời văn phòng phải trong khoảng 0 đến 24. Chương trình dừng lại.')\n",
    "        return\n",
    "\n",
    "    if m < n:\n",
    "        print('❌ Lỗi: Giờ rời không thể nhỏ hơn giờ vào. Chương trình dừng lại.')\n",
    "        return\n",
    "\n",
    "    # Tính thời gian làm việc\n",
    "    hours = m - n\n",
    "    print('Thời gian có mặt tại văn phòng: ', hours)\n",
    "\n",
    "# Gọi hàm main()\n",
    "main()\n",
    "\n"
   ]
  },
  {
   "cell_type": "markdown",
   "id": "f1e08d88",
   "metadata": {},
   "source": [
    "#### Question 2: Bạn kết bạn với đồng nghiệp và đề nghị chơi bóng chuyền vào thứ Bảy.\n",
    "\n",
    "*k* đồng nghiệp của bạn nói rằng họ chắc chắn sẽ đến, *m* thì không chắc chắn. Viết một chương trình tính toán có bao nhiêu người (bao gồm cả bạn) sẽ đến xem trận đấu trong trường hợp tốt nhất và tệ nhất.\n",
    "\n",
    "**Định dạng đầu vào**<br>\n",
    "Hai số nguyên: *k* - số người chắc chắn sẽ đến, *m* - số đồng nghiệp không chắc chắn.\n",
    "\n",
    "**Định dạng đầu ra**<br>\n",
    "Ở dòng đầu tiên, cụm từ \"Tốt nhất: *b*\", trong đó *b* là số người trong trường hợp tốt nhất. Ở dòng thứ hai, cụm từ \"Tệ nhất: *w*\", trong đó *w* là số người trong trường hợp tệ nhất."
   ]
  },
  {
   "cell_type": "code",
   "execution_count": 1,
   "id": "3e236701",
   "metadata": {},
   "outputs": [
    {
     "name": "stdout",
     "output_type": "stream",
     "text": [
      "Số người chắc chắn sẽ đến:  3\n",
      "Số người không chắc chắn sẽ đến:  7\n",
      "Best: 11\n",
      "Worst: 4\n"
     ]
    }
   ],
   "source": [
    "# Đáp án câu 2: (Solution 1)\n",
    "k = int(input('Số người chắc chắn sẽ đến: '))\n",
    "m = int(input('Số người không chắc chắn sẽ đến: '))\n",
    "\n",
    "tot_nhat = 1 + k + m  # 1 là bạn, k là số người chắc chắn sẽ đến, m là số người không chắc chắn\n",
    "te_nhat = 1 + k       # 1 là bạn, k là số người chắc chắn sẽ đến\n",
    "\n",
    "print('Số người chắc chắn sẽ đến: ', k)\n",
    "print('Số người không chắc chắn sẽ đến: ', m)\n",
    "print(\"Best:\", tot_nhat)\n",
    "print(\"Worst:\", te_nhat)"
   ]
  },
  {
   "cell_type": "code",
   "execution_count": 19,
   "id": "e245b82b",
   "metadata": {},
   "outputs": [
    {
     "name": "stdout",
     "output_type": "stream",
     "text": [
      "❌ Lỗi: Số người chắc chắn không được âm. Chương trình dừng lại.\n"
     ]
    }
   ],
   "source": [
    "# Đáp án câu 2: (Solution 2) Khống chế input không âm và dừng chương trình nếu input không hợp lệ\n",
    "\n",
    "def main():\n",
    "    # Nhập số người chắc chắn sẽ đến\n",
    "    k = int(input('Số người chắc chắn sẽ đến: '))\n",
    "    if k < 0:\n",
    "        print('❌ Lỗi: Số người chắc chắn không được âm. Chương trình dừng lại.')\n",
    "        return\n",
    "\n",
    "    # Nhập số người không chắc chắn sẽ đến\n",
    "    m = int(input('Số người không chắc chắn sẽ đến: '))\n",
    "    if m < 0:\n",
    "        print('❌ Lỗi: Số người không chắc chắn không được âm. Chương trình dừng lại.')\n",
    "        return\n",
    "\n",
    "    # Tính toán\n",
    "    tot_nhat = 1 + k + m  # 1 là bạn\n",
    "    te_nhat = 1 + k       # 1 là bạn\n",
    "\n",
    "    # In kết quả\n",
    "    print('Số người chắc chắn sẽ đến: ', k)\n",
    "    print('Số người không chắc chắn sẽ đến: ', m)\n",
    "    print(\"Best:\", tot_nhat)\n",
    "    print(\"Worst:\", te_nhat)\n",
    "\n",
    "# Gọi chương trình\n",
    "main()\n"
   ]
  },
  {
   "cell_type": "code",
   "execution_count": 17,
   "id": "5f573e73",
   "metadata": {},
   "outputs": [
    {
     "name": "stdout",
     "output_type": "stream",
     "text": [
      "❌ Số người chắc chắn không được âm. Vui lòng nhập lại.\n",
      "❌ Số người chắc chắn không được âm. Vui lòng nhập lại.\n",
      "Số người chắc chắn sẽ đến:  1\n",
      "Số người không chắc chắn sẽ đến:  0\n",
      "Best: 2\n",
      "Worst: 2\n"
     ]
    }
   ],
   "source": [
    "# Đáp án câu 2: (Solution 3) Khống chế input không âm và yêu cầu nhập lại nếu input không hợp lệ\n",
    "while True:\n",
    "    k = int(input('Số người chắc chắn sẽ đến: '))\n",
    "    if k < 0:\n",
    "        print('❌ Số người chắc chắn không được âm. Vui lòng nhập lại.')\n",
    "    else:\n",
    "        break\n",
    "\n",
    "while True:\n",
    "    m = int(input('Số người không chắc chắn sẽ đến: '))\n",
    "    if m < 0:\n",
    "        print('❌ Số người không chắc chắn không được âm. Vui lòng nhập lại.')\n",
    "    else:\n",
    "        break\n",
    "\n",
    "tot_nhat = 1 + k + m\n",
    "te_nhat = 1 + k\n",
    "\n",
    "print('Số người chắc chắn sẽ đến: ', k)\n",
    "print('Số người không chắc chắn sẽ đến: ', m)\n",
    "print(\"Best:\", tot_nhat)\n",
    "print(\"Worst:\", te_nhat)\n"
   ]
  },
  {
   "cell_type": "code",
   "execution_count": 18,
   "id": "b14e1067",
   "metadata": {},
   "outputs": [
    {
     "name": "stdout",
     "output_type": "stream",
     "text": [
      "❌ Vui lòng chỉ nhập số nguyên. Nhập lại.\n",
      "\n",
      "\n",
      "✅ Kết quả:\n",
      "Số người chắc chắn sẽ đến: 2\n",
      "Số người không chắc chắn sẽ đến: 1\n",
      "Best (nhiều nhất): 4\n",
      "Worst (ít nhất): 3\n"
     ]
    }
   ],
   "source": [
    "# Đáp án câu 2: (Solution 4) Khống chế input không âm và yêu cầu nhập lại nếu input không hợp lệ\n",
    "while True:\n",
    "    try:\n",
    "        k = int(input('Nhập số người chắc chắn sẽ đến (≥ 0): '))\n",
    "        if k < 0:\n",
    "            print('❌ Lỗi: Số người chắc chắn không được âm. Vui lòng nhập lại.\\n')\n",
    "        else:\n",
    "            break\n",
    "    except ValueError:\n",
    "        print('❌ Vui lòng chỉ nhập số nguyên. Nhập lại.\\n')\n",
    "\n",
    "while True:\n",
    "    try:\n",
    "        m = int(input('Nhập số người không chắc chắn sẽ đến (≥ 0): '))\n",
    "        if m < 0:\n",
    "            print('❌ Lỗi: Số người không chắc chắn không được âm. Vui lòng nhập lại.\\n')\n",
    "        else:\n",
    "            break\n",
    "    except ValueError:\n",
    "        print('❌ Vui lòng chỉ nhập số nguyên. Nhập lại.\\n')\n",
    "\n",
    "tot_nhat = 1 + k + m\n",
    "te_nhat = 1 + k\n",
    "\n",
    "print('\\n✅ Kết quả:')\n",
    "print('Số người chắc chắn sẽ đến:', k)\n",
    "print('Số người không chắc chắn sẽ đến:', m)\n",
    "print(\"Best (nhiều nhất):\", tot_nhat)\n",
    "print(\"Worst (ít nhất):\", te_nhat)\n"
   ]
  },
  {
   "cell_type": "markdown",
   "id": "267468f2",
   "metadata": {},
   "source": [
    "#### Question 3: Sau trận đấu bóng chuyền, bạn và những người bạn mới (tổng cộng n người, bao gồm cả bạn) quyết định chơi trò chơi cờ bàn.\n",
    "\n",
    "Để chơi trò này, bạn cần chia thành các đội gồm *w* người.<br>\n",
    "Viết chương trình tính toán sẽ có bao nhiêu đội và bao nhiêu người sẽ không có đội.\n",
    "\n",
    "**Định dạng đầu vào**<br>\n",
    "Hai số nguyên: *n* - số lượng khách mời tại bữa tiệc, *w* - số người trong một đội\n",
    "\n",
    "**Định dạng đầu ra**<br>\n",
    "Hai số nguyên cách nhau bởi một khoảng trắng: số lượng đội, số người không có đội."
   ]
  },
  {
   "cell_type": "code",
   "execution_count": 32,
   "id": "2483046b",
   "metadata": {},
   "outputs": [
    {
     "name": "stdout",
     "output_type": "stream",
     "text": [
      "Tổng số lượng người:  -2\n",
      "Số lượng người của từng đội:  2\n",
      "\n",
      "✅ Kết quả:\n",
      "-1 0\n"
     ]
    }
   ],
   "source": [
    "# Đáp án câu 3: (Solution 1)\n",
    "n = int(input('Nhập tổng số lượng người: '))\n",
    "w = int(input('Nhập số lượng người của từng đội: '))\n",
    "\n",
    "so_doi = n // w             \n",
    "so_nguoi_con_lai = n % w    \n",
    "\n",
    "print('Tổng số lượng người: ', n)\n",
    "print('Số lượng người của từng đội: ', w)\n",
    "print('\\n✅ Kết quả:')\n",
    "    \n",
    "# Tính và in ra số đội và số người còn lại không có đội\n",
    "print(so_doi, so_nguoi_con_lai)"
   ]
  },
  {
   "cell_type": "code",
   "execution_count": 33,
   "id": "ff0dbaf1",
   "metadata": {},
   "outputs": [
    {
     "name": "stdout",
     "output_type": "stream",
     "text": [
      "Tổng số lượng người:  -3\n",
      "Số lượng người của từng đội:  3\n",
      "\n",
      "✅ Kết quả:\n",
      "Số đội: -1, Số người lẻ: 0\n"
     ]
    }
   ],
   "source": [
    "# Đáp án câu 3: (Solution 2) Câu lệnh Output rõ ràng hơn\n",
    "n = int(input('Nhập tổng số lượng người: '))\n",
    "w = int(input('Nhập số lượng người của từng đội: '))\n",
    "\n",
    "so_doi = n // w             \n",
    "so_nguoi_con_lai = n % w    \n",
    "\n",
    "print('Tổng số lượng người: ', n)\n",
    "print('Số lượng người của từng đội: ', w)\n",
    "print('\\n✅ Kết quả:')\n",
    "    \n",
    "# Tính và in ra số đội và số người còn lại không có đội\n",
    "# print(so_doi, so_nguoi_con_lai)\n",
    "print(f'Số đội: {so_doi}, Số người lẻ: {so_nguoi_con_lai}')"
   ]
  },
  {
   "cell_type": "code",
   "execution_count": null,
   "id": "6bc3c006",
   "metadata": {},
   "outputs": [
    {
     "name": "stdout",
     "output_type": "stream",
     "text": [
      "Tổng số lượng người:  97\n",
      "Số lượng người của từng đội:  8\n",
      "\n",
      "✅ Kết quả:\n",
      "Số đội có thể chia: 12\n",
      "Số người còn lại không vào đội: 1\n"
     ]
    }
   ],
   "source": [
    "# Đáp án câu 3: (Solution 3) \n",
    "# ĐK: n ≥ w ≥ 1 (tổng số người phải lớn hơn hoặc bằng số người mỗi đội, và mỗi đội phải có ít nhất 1 người)\n",
    "while True:\n",
    "    n = int(input('Nhập tổng số lượng người (n ≥ w ≥ 1): '))\n",
    "    w = int(input('Nhập số lượng người của từng đội (w ≥ 1): '))\n",
    "    \n",
    "    if w < 1:\n",
    "        print('❌ Số lượng người mỗi đội phải ≥ 1. Vui lòng nhập lại.\\n')\n",
    "    elif n < w:\n",
    "        print('❌ Tổng số người phải lớn hơn hoặc bằng số người mỗi đội. Vui lòng nhập lại.\\n')\n",
    "    else:\n",
    "        break\n",
    "\n",
    "so_doi = n // w             \n",
    "so_nguoi_con_lai = n % w    \n",
    "\n",
    "print('Tổng số lượng người: ', n)\n",
    "print('Số lượng người của từng đội: ', w)\n",
    "print('\\n✅ Kết quả:')\n",
    "print('Số đội có thể chia:', so_doi)\n",
    "print('Số người còn lại không vào đội:', so_nguoi_con_lai)\n"
   ]
  },
  {
   "cell_type": "markdown",
   "id": "2bbe96ed",
   "metadata": {},
   "source": [
    "#### Question 4: Bạn đã làm rất tốt trong tháng đầu tiên tại công việc mới. \n",
    "Ban quản lý đã quyết định thưởng cho bạn một khoản tiền thưởng là *b* đô la. Bạn đã quyết định gửi tiền thưởng vào ngân hàng với lãi suất *p* phần trăm mỗi năm.<br>\n",
    "Viết một chương trình tính toán số tiền sẽ được thêm vào tiền gửi ngân hàng của bạn trong năm và số tiền gửi sẽ là bao nhiêu sau đó.\n",
    "\n",
    "**Định dạng đầu vào**<br>\n",
    "Hai số:\n",
    "\n",
    "- Một số thực b - số tiền gửi ban đầu\n",
    "- Một số nguyên p - lãi suất hàng năm\n",
    "\n",
    "**Định dạng đầu ra**<br>\n",
    "Dòng đầu tiên là số tiền sẽ được thêm vào tiền gửi trong năm.<br>\n",
    "Dòng thứ hai là số tiền gửi sau một năm.\n",
    "\n",
    "**Lưu ý**<br>\n",
    "Nếu bạn gửi 100 đô la với lãi suất 3 phần trăm mỗi năm, thì sau một năm, 3 đô la sẽ được thêm vào số tiền gửi, do đó tổng số tiền trong tài khoản của bạn sẽ là 103 đô la."
   ]
  },
  {
   "cell_type": "code",
   "execution_count": 37,
   "id": "2545cf6d",
   "metadata": {},
   "outputs": [
    {
     "name": "stdout",
     "output_type": "stream",
     "text": [
      "Tổng số tiền gửi ban đầu:  1000.0\n",
      "Tổng tiền lãi là:  50.0\n",
      "Tổng tiền cả gốc và lãi là:  1050.0\n"
     ]
    }
   ],
   "source": [
    "# Đáp án câu 4: (Solution 1) \n",
    "b = float(input('Tổng số tiền gửi ban đầu: '))\n",
    "p = int(input('Lãi suất hàng năm (%): '))\n",
    "\n",
    "tien_them = b * (p / 100)\n",
    "tong_so_tien_sau_mot_nam = b + tien_them\n",
    "\n",
    "print('Tổng số tiền gửi ban đầu: ', b)    \n",
    "print('Tổng tiền lãi là: ', tien_them)\n",
    "print('Tổng tiền cả gốc và lãi là: ', tong_so_tien_sau_mot_nam)"
   ]
  },
  {
   "cell_type": "code",
   "execution_count": 41,
   "id": "a3fdde3c",
   "metadata": {},
   "outputs": [
    {
     "name": "stdout",
     "output_type": "stream",
     "text": [
      "\n",
      "✅ Kết quả:\n",
      "Tổng số tiền gửi ban đầu: 548.0\n",
      "Tổng tiền lãi là: 43.84\n",
      "Tổng tiền cả gốc và lãi là: 591.84\n"
     ]
    }
   ],
   "source": [
    "# Đáp án câu 4: (Solution 2) \n",
    "# Khống chế input không âm và yêu cầu nhập lại nếu input không hợp lệ\n",
    "while True:\n",
    "    b = float(input('Tổng số tiền gửi ban đầu: '))\n",
    "    if b < 0:\n",
    "        print('❌ Số tiền gửi không được âm. Vui lòng nhập lại.')\n",
    "    else:\n",
    "        break\n",
    "\n",
    "while True:\n",
    "    p = int(input('Lãi suất hàng năm (%): '))\n",
    "    if p < 0:\n",
    "        print('❌ Lãi suất không được âm. Vui lòng nhập lại.')\n",
    "    else:\n",
    "        break\n",
    "\n",
    "tien_them = b * (p / 100)\n",
    "tong_so_tien_sau_mot_nam = b + tien_them\n",
    "\n",
    "print('\\n✅ Kết quả:')\n",
    "print('Tổng số tiền gửi ban đầu:', b)\n",
    "print('Tổng tiền lãi là:', round(tien_them, 2))\n",
    "print('Tổng tiền cả gốc và lãi là:', tong_so_tien_sau_mot_nam)\n"
   ]
  },
  {
   "cell_type": "markdown",
   "id": "31592e9d",
   "metadata": {},
   "source": [
    "# Lecture 2: Conditions & Functions"
   ]
  },
  {
   "cell_type": "markdown",
   "id": "18a869da",
   "metadata": {},
   "source": [
    "**Tổng quan bài giảng** <br><br>\n",
    "Trong buổi học mới, chúng ta sẽ đi sâu hơn vào lập trình Python, tập trung vào các điều kiện và hàm. Lớp học này xây dựng dựa trên kiến ​​thức nền tảng từ bài giảng trước, giới thiệu cho bạn các khái niệm và kỹ thuật lập trình thiết yếu. Chúng ta hãy củng cố hiểu biết của mình về Python và khám phá cách sử dụng các điều kiện và hàm hiệu quả trong chương trình của mình!\n",
    "\n",
    "**🔍 Sau đây là những nội dung chúng ta sẽ học:**\n",
    "\n",
    "`1.Củng cố tài liệu bài giảng trước:`\n",
    "\n",
    "- Chúng ta sẽ bắt đầu bằng cách củng cố tài liệu đã học trong bài giảng trước, đảm bảo rằng mọi người đều hiểu rõ và sẵn sàng tìm hiểu sâu hơn về lập trình Python.\n",
    "\n",
    "`2.Hiểu về thực thi có điều kiện trong Python:`\n",
    "\n",
    "- Chúng ta sẽ khám phá cách thực thi có điều kiện hoạt động trong Python, bao gồm:\n",
    "    - Các câu lệnh if, elif và else để phân nhánh logic.\n",
    "    - So sánh kép và điều kiện lồng nhau để xử lý các tình huống phức tạp.\n",
    "    - Làm việc với các toán tử so sánh để đánh giá các điều kiện.\n",
    "\n",
    "`3.Học cách xác định hàm của riêng bạn:`\n",
    "\n",
    "- Các hàm rất cần thiết để sắp xếp và sử dụng lại mã trong Python. Chúng ta sẽ học cách định nghĩa các hàm của riêng mình, cho phép chúng ta đóng gói logic và tạo mã có thể tái sử dụng, dạng mô-đun.\n",
    "\n",
    "`4.Bài tập lập trình thực hành:`\n",
    "\n",
    "- Để củng cố kiến ​​thức đã học, chúng ta sẽ viết một số chương trình bằng Python kết hợp thực thi có điều kiện và các hàm. Các bài tập thực hành này sẽ thử thách chúng ta áp dụng kiến ​​thức mới học được vào các tình huống thực tế."
   ]
  },
  {
   "cell_type": "markdown",
   "id": "6cf2b498",
   "metadata": {},
   "source": [
    "## 🧑‍🏫 Classwork"
   ]
  },
  {
   "cell_type": "markdown",
   "id": "2e8c4932",
   "metadata": {},
   "source": [
    "### ✅ Conditions and built-in functions\n",
    "#### Question 1:\n",
    "\n",
    "**Task** <br>\n",
    "In accounting, it is customary to:\n",
    "\n",
    "- write the USD sign before the number\n",
    "- round values to 2 decimal places\n",
    "- put a space between the $ sign and the number\n",
    "\n",
    "Write a program that reads a floating-point number and formats it according to the specified format.\n",
    "\n",
    "For example, 10 => $ 10.00.\n",
    "\n",
    "**Input format**\n",
    "\n",
    "A floating-point number `x` that needs to be formatted\n",
    "\n",
    "**Output format**\n",
    "\n",
    "The formatted number\n",
    "\n",
    "|Input\t    |  Result    |\n",
    "|-----------|------------|\n",
    "|10.123     |$ 10.12     |   \n",
    "|-543.239158 |$ -543.24  |\n",
    "\n",
    "\n",
    "\n"
   ]
  },
  {
   "cell_type": "code",
   "execution_count": 9,
   "id": "837cb778",
   "metadata": {},
   "outputs": [
    {
     "name": "stdout",
     "output_type": "stream",
     "text": [
      "Vui lòng nhập một số hợp lệ.\n"
     ]
    }
   ],
   "source": [
    "# Dùng hàm (function)\n",
    "def format():\n",
    "    try:\n",
    "        x = float(input('Hãy nhập số cần tính toán: ').strip())\n",
    "        formatted_number = f\"$ {x:.2f}\"\n",
    "        print('Bạn đã nhập số: ', x)\n",
    "        print(formatted_number)\n",
    "    except ValueError:\n",
    "        print(\"Vui lòng nhập một số hợp lệ.\")\n",
    "\n",
    "format()"
   ]
  },
  {
   "cell_type": "markdown",
   "id": "00a84088",
   "metadata": {},
   "source": [
    "#### Question 2:\n",
    "\n",
    "**Task** <br>\n",
    "In accounting, negative numbers are often represented within parentheses to indicate a decrease or a loss. This convention is known as parentheses notation or bracket notation.\n",
    "\n",
    "| Regular notation\t|  Parentheses notation|\n",
    "|-------------------|----------------------|\n",
    "|100\t            |  100                 |\n",
    "|-100\t            | (100)                |\n",
    " \n",
    "\n",
    "Write a program that takes a number and converts it to the parentheses notation\n",
    "\n",
    "**Input format**\n",
    "\n",
    "An integer `x` - the number that needs to be converted\n",
    "\n",
    "**Output format**\n",
    "\n",
    "The given number in the parentheses notation\n",
    "\n",
    "|Input\t    |  Result   |\n",
    "|-----------|-----------|\n",
    "|128        | 128       |\n",
    "|-64        | (64)      |\n"
   ]
  },
  {
   "cell_type": "code",
   "execution_count": 24,
   "id": "49ce0a95",
   "metadata": {},
   "outputs": [
    {
     "name": "stdout",
     "output_type": "stream",
     "text": [
      "📝 Bạn đã nhập giá trị: -108\n",
      "✅ Giá trị Output: (108)\n"
     ]
    }
   ],
   "source": [
    "# Dùng hàm (function)\n",
    "\n",
    "def to_parentheses_notation(x):\n",
    "    if x >= 0:\n",
    "        return str(x)\n",
    "    else:\n",
    "        return f\"({-x})\"\n",
    "\n",
    "try:\n",
    "    x = int(input('Nhập số nguyên: '))\n",
    "    print('📝 Bạn đã nhập giá trị:', x)\n",
    "    print('✅ Giá trị Output:', to_parentheses_notation(x))\n",
    "except ValueError:\n",
    "    print(\"Lỗi: Bạn phải nhập một số nguyên hợp lệ!\")"
   ]
  },
  {
   "cell_type": "code",
   "execution_count": 57,
   "id": "c2f23645",
   "metadata": {},
   "outputs": [
    {
     "name": "stdout",
     "output_type": "stream",
     "text": [
      "🔴 Sai định dạng số nguyên\n"
     ]
    }
   ],
   "source": [
    "# Dùng if-elif\n",
    "\n",
    "try:\n",
    "    a = int(input('Nhập số nguyên: ')) \n",
    "    print('📝 Bạn đã nhập giá trị:', a) \n",
    "    if a >= 0:\n",
    "            print ('🎯 Kết quả:', str(a))\n",
    "    else:\n",
    "        print (f\"🎯 Kết quả ({-a})\")\n",
    "\n",
    "except ValueError:\n",
    "  print('🔴 Sai định dạng số nguyên')        "
   ]
  },
  {
   "attachments": {
    "image.png": {
     "image/png": "[encoded data removed]"
    }
   },
   "cell_type": "markdown",
   "id": "49ddce3d",
   "metadata": {},
   "source": [
    "#### Question 3:\n",
    "**Nhiệm vụ**<br>\n",
    "Mặc dù bạn là một nhà phân tích, nhưng bạn cũng thành thạo Python. Vì vậy, ban quản lý đã giao cho bạn trách nhiệm viết một chương trình kiểm tra thông tin đăng nhập và mật khẩu đã nhập, so sánh với thông tin đã cho và cấp quyền truy cập nếu chúng khớp.\n",
    "\n",
    "Một điểm quan trọng cần lưu ý là thông tin đăng nhập trong hệ thống phải không phân biệt chữ hoa chữ thường, nghĩa là hệ thống không quan tâm đến việc người dùng nhập thông tin bằng chữ hoa hay chữ thường.\n",
    "\n",
    "Tuy nhiên, mật khẩu phải phân biệt chữ hoa chữ thường.\n",
    "\n",
    "Viết một chương trình in **\"Access granted\"** nếu người dùng nhập đúng thông tin đăng nhập và mật khẩu và **\"Access denied\"** nếu không đúng.\n",
    "\n",
    "Sau đây là thông tin xác thực chính xác mà bạn cần mã hóa <br>\n",
    "\n",
    "*Đăng nhập: `superuser123`* <br>\n",
    "*Mật khẩu: `123dataanalysis`* <br>\n",
    "\n",
    "**Định dạng đầu vào**<br>\n",
    "2 dòng: đăng nhập và mật khẩu\n",
    "\n",
    "**Định dạng đầu ra**<br>\n",
    "**\"Access granted\"** nếu người dùng nhập đúng thông tin đăng nhập và mật khẩu và **\"Access denied\"** nếu không đúng.\n",
    "\n",
    "|Input              | Output                        |\n",
    "|-------------------|-------------------------------|\n",
    "|superuser123       |Đã cấp quyền truy cập admin    |\n",
    "123dataanalysis       \n",
    "\n",
    "![image.png](attachment:image.png)\n"
   ]
  },
  {
   "cell_type": "code",
   "execution_count": 63,
   "id": "3b5f6121",
   "metadata": {},
   "outputs": [
    {
     "name": "stdout",
     "output_type": "stream",
     "text": [
      "Access granted\n"
     ]
    }
   ],
   "source": [
    "# Dùng hàm (function)\n",
    "def check_credentials(entered_login, entered_password):\n",
    "    return (\n",
    "        \"Access granted\"\n",
    "        if entered_login.lower() == \"superuser123\"\n",
    "        and entered_password == \"123dataanalysis\"\n",
    "        else \"Access denied\"\n",
    "    )\n",
    "\n",
    "print(check_credentials(input('Nhập tên user:').strip(), input('Nhập password:').strip()))\n"
   ]
  },
  {
   "cell_type": "code",
   "execution_count": 71,
   "id": "47dc5987",
   "metadata": {},
   "outputs": [
    {
     "name": "stdout",
     "output_type": "stream",
     "text": [
      "Access denied\n"
     ]
    }
   ],
   "source": [
    "# Dùng if-else:\n",
    "entered_login = input('Nhập tên user:')\n",
    "entered_password = input('Nhập password:')\n",
    "\n",
    "def check_credentials(entered_login, entered_password):\n",
    "    if entered_login.lower() == \"superuser123\" and entered_password == \"123dataanalysis\":\n",
    "        return \"Access granted\"\n",
    "    else:\n",
    "        return \"Access denied\"\n",
    "\n",
    "print(check_credentials(entered_login, entered_password))"
   ]
  },
  {
   "attachments": {
    "image.png": {
     "image/png": "[encoded data removed]"
    }
   },
   "cell_type": "markdown",
   "id": "79855bc9",
   "metadata": {},
   "source": [
    "#### Question 4:\n",
    "**Task** <br>\n",
    "As an analyst, you often need to calculate various metrics. The most common operations you encounter are: calculating the arithmetic mean, sum, and product.\n",
    "\n",
    "Write a calculator that accepts one of three actions: AVG, SUM, or PRODUCT. Then it takes two real numbers and outputs the result of the requested action.\n",
    "\n",
    "If an unrecognized operation is entered, the calculator should output **\"Invalid action\".**\n",
    "\n",
    "**Input format** <br>\n",
    "3 lines:\n",
    "\n",
    "- the requested action (AVG, SUM, or PRODUCT)\n",
    "- the first number\n",
    "- the second number\n",
    "\n",
    "**Output format** <br>\n",
    "One number - the result of applying the requested action to the entered numbers, or **\"Invalid action\"** if an unrecognized operation is entered.\n",
    "\n",
    "![image.png](attachment:image.png)"
   ]
  },
  {
   "cell_type": "code",
   "execution_count": 17,
   "id": "4760ea53",
   "metadata": {},
   "outputs": [
    {
     "name": "stdout",
     "output_type": "stream",
     "text": [
      "❌ Giá trị CAC bạn chọn không hợp lệ. Vui lòng chọn AVG, SUM, PRODUCT.\n"
     ]
    }
   ],
   "source": [
    "# Danh sách lựa chọn hợp lệ\n",
    "choices = [\"AVG\", \"SUM\", \"PRODUCT\"]\n",
    "\n",
    "# Nhận input từ người dùng và chuyển thành chữ hoa\n",
    "action = input('Hãy cho tôi biết hành động bạn yêu cầu thực hiện (\"AVG\", \"SUM\", \"PRODUCT\"):').strip().upper()\n",
    "num1 = float(input('Nhập số thứ 1:').strip())\n",
    "num2 = float(input('Nhập số thứ 2: ').strip())\n",
    "\n",
    "if action not in choices:\n",
    "    print(f\"❌ Giá trị {action} bạn chọn không hợp lệ. Vui lòng chọn AVG, SUM, PRODUCT.\")\n",
    "else:\n",
    "    print('Bạn yêu cầu thực hiện:', action)\n",
    "    print('Số thứ nhất:',num1)\n",
    "    print('Số thứ hai:',num2)\n",
    "\n",
    "# Thực hiện hành động\n",
    "    if action == \"AVG\":\n",
    "        print('Giá trị AVG là:',(num1 + num2) / 2)\n",
    "    elif action == \"SUM\":\n",
    "        print('Giá trị SUM là:', num1 + num2)\n",
    "    elif action == \"PRODUCT\":\n",
    "        print('Giá trị PRODUCT là:', num1 * num2)\n",
    "    else:\n",
    "        print(\"Invalid action\")"
   ]
  },
  {
   "cell_type": "markdown",
   "id": "7439135b",
   "metadata": {},
   "source": [
    "### 📚 Functions"
   ]
  },
  {
   "cell_type": "markdown",
   "id": "b9487493",
   "metadata": {},
   "source": [
    "#### Question 1:\n",
    "**Task** <br>\n",
    "Write the function my_min that takes 2 numbers and returns the smaller one.\n",
    "\n",
    "**⚠️ Important** <br>\n",
    "Please keep in mind that you only need to submit the function. There is no need to write the code to receive input values from the user or do anything else.\n",
    "\n",
    "Your code will be inserted here as a part of the resulting program. Other lines will be added automatically:\n",
    "\n",
    "*Your function will appear here* <br>\n",
    "`a = int(input())` <br>\n",
    "`b = int(input())` <br>\n",
    "`print(my_min(a, b))` <br>"
   ]
  },
  {
   "cell_type": "code",
   "execution_count": null,
   "id": "7d71c1cf",
   "metadata": {},
   "outputs": [
    {
     "name": "stdout",
     "output_type": "stream",
     "text": [
      "Số nguyên thứ nhất là: -5\n",
      "Số nguyên thứ hai là: -5\n",
      "Hai số bằng nhau: -5\n"
     ]
    }
   ],
   "source": [
    "# Nhập giá trị 2 số nguyên:\n",
    "x = int(input('Số nguyên x:'))\n",
    "y = int(input('Số nguyên y:'))\n",
    "\n",
    "print(f'Số nguyên thứ nhất là: {x}')\n",
    "print(f'Số nguyên thứ hai là: {y}')\n",
    "\n",
    "# Hàm so sánh:\n",
    "def compare(x, y):\n",
    "    if x > y:\n",
    "        print(f'Số nhỏ hơn là: {y}')\n",
    "    elif x < y:\n",
    "        print(f'Số nhỏ hơn là: {x}')\n",
    "    else:\n",
    "        print(f'Hai số bằng nhau: {x}')\n",
    "\n",
    "compare(x, y)\n",
    "\n",
    "    \n"
   ]
  },
  {
   "cell_type": "code",
   "execution_count": 44,
   "id": "07644895",
   "metadata": {},
   "outputs": [
    {
     "name": "stdout",
     "output_type": "stream",
     "text": [
      "Số nguyên thứ nhất là: 77\n",
      "Số nguyên thứ hai là: 77\n",
      "Kết quả số nhỏ hơn là: 77\n"
     ]
    }
   ],
   "source": [
    "# Nhập giá trị 2 số nguyên:\n",
    "x = int(input('Số nguyên x:'))\n",
    "y = int(input('Số nguyên y:'))\n",
    "\n",
    "print(f'Số nguyên thứ nhất là: {x}')\n",
    "print(f'Số nguyên thứ hai là: {y}')\n",
    "\n",
    "# Hàm so sánh:\n",
    "def my_min(x, y):\n",
    "    return x if x < y else y\n",
    "print('Kết quả số nhỏ hơn là:', my_min(x, y))"
   ]
  },
  {
   "cell_type": "markdown",
   "id": "d4af817c",
   "metadata": {},
   "source": [
    "#### Question 2:\n",
    "**Task** <br>\n",
    "In accounting, negative numbers are often represented within parentheses to indicate a decrease or a loss. This convention is known as parentheses notation or bracket notation.\n",
    "\n",
    "|Regular notation\t| Parentheses notation |\n",
    "|-------------------|----------------------|\n",
    "|     100\t        |    100               |\n",
    "|     -100\t        |   (100)              |\n",
    " \n",
    "\n",
    "Write the function parentheses_notation that takes a single number and converts it to parentheses notation as a string (even positive numbers need to be returned as strings)\n",
    "\n",
    "**⚠️ Important** <br>\n",
    "Please keep in mind that you only need to submit the function. There is no need to write the code to receive input values from the user or do anything else."
   ]
  },
  {
   "cell_type": "code",
   "execution_count": 80,
   "id": "c781df71",
   "metadata": {},
   "outputs": [
    {
     "name": "stdout",
     "output_type": "stream",
     "text": [
      "(90)\n",
      "Output có dạng: <class 'str'>\n"
     ]
    }
   ],
   "source": [
    "number = int(input('Nhập giá trị số nguyên:'))\n",
    "\n",
    "def gt_tuyetdoi(number):\n",
    "    if number < 0:\n",
    "        return f\"({abs(number)})\"\n",
    "        #return f'({-number})'\n",
    "    else:\n",
    "        return number\n",
    "kq = gt_tuyetdoi(number)\n",
    "print(kq) \n",
    "print('Output có dạng:',type(kq))"
   ]
  },
  {
   "cell_type": "markdown",
   "id": "3c01c6bf",
   "metadata": {},
   "source": [
    "#### Question 3:\n",
    "**Task**\n",
    "Write the function average3 that takes 3 integers and returns their average.\n",
    "\n",
    "**⚠️ Important** <br>\n",
    "Please keep in mind that you only need to submit the function. There is no need to write the code to receive input values from the user or do anything else."
   ]
  },
  {
   "cell_type": "code",
   "execution_count": 84,
   "id": "1b3c40c5",
   "metadata": {},
   "outputs": [
    {
     "name": "stdout",
     "output_type": "stream",
     "text": [
      "Số nguyên thứ nhất là: 9\n",
      "Số nguyên thứ hai là: 5\n",
      "Số nguyên thứ ba là: 2\n"
     ]
    },
    {
     "data": {
      "text/plain": [
       "5.333333333333333"
      ]
     },
     "execution_count": 84,
     "metadata": {},
     "output_type": "execute_result"
    }
   ],
   "source": [
    "# Nhập giá trị 2 số nguyên:\n",
    "a = int(input('Số nguyên a:'))\n",
    "b = int(input('Số nguyên b:'))\n",
    "c = int(input('Số nguyên c:'))\n",
    "\n",
    "print(f'Số nguyên thứ nhất là: {a}')\n",
    "print(f'Số nguyên thứ hai là: {b}')\n",
    "print(f'Số nguyên thứ ba là: {c}')\n",
    "\n",
    "def average3(a, b, c):\n",
    "    total = a + b + c\n",
    "    average = total / 3\n",
    "    return average\n",
    "\n",
    "average3(a, b, c)"
   ]
  },
  {
   "cell_type": "code",
   "execution_count": 98,
   "id": "867107d6",
   "metadata": {},
   "outputs": [
    {
     "name": "stdout",
     "output_type": "stream",
     "text": [
      "Số nguyên thứ nhất là: 10\n",
      "Số nguyên thứ hai là: 100\n",
      "Số nguyên thứ ba là: 1000\n",
      "\n",
      "✅ Trung bình cộng là: 370.0\n"
     ]
    }
   ],
   "source": [
    "# Báo lỗi nếu a hay b hay c khác integer\n",
    "# Nhập giá trị 2 số nguyên:\n",
    "try:\n",
    "\n",
    "    a = int(input('Số nguyên a:'))\n",
    "    b = int(input('Số nguyên b:'))\n",
    "    c = int(input('Số nguyên c:'))\n",
    "\n",
    "    print(f'Số nguyên thứ nhất là: {a}')\n",
    "    print(f'Số nguyên thứ hai là: {b}')\n",
    "    print(f'Số nguyên thứ ba là: {c}\\n')\n",
    "\n",
    "\n",
    "\n",
    "    def average3(a, b, c):\n",
    "        total = a + b + c\n",
    "        average = total / 3\n",
    "        return average\n",
    "\n",
    "    #print(average3(a, b, c))\n",
    "    print(f'✅ Trung bình cộng là: {average3(a, b, c)}')\n",
    "\n",
    "except ValueError:\n",
    "    \n",
    "    print(\"❌ Lỗi: Bạn phải nhập số nguyên hợp lệ!\")"
   ]
  },
  {
   "cell_type": "markdown",
   "id": "054ffd22",
   "metadata": {},
   "source": [
    "#### Question 4:\n",
    "**Task**\n",
    "Write the function get_indicator that takes 2 numbers: result and kpi.\n",
    "\n",
    "The function needs to return an emoji - KPI indicator:\n",
    "\n",
    "😊 if the result is greater than the KPI <br>\n",
    "😐 if the result is equal to the KPI <br>\n",
    "☹️ if the result is less than the KPI <br>\n",
    "**⚠️ Important** <br>\n",
    "Please keep in mind that you only need to submit the function. There is no need to write the code to receive input values from the user or do anything else."
   ]
  },
  {
   "cell_type": "code",
   "execution_count": null,
   "id": "55429612",
   "metadata": {},
   "outputs": [
    {
     "name": "stdout",
     "output_type": "stream",
     "text": [
      "❌ Lỗi: Bạn phải nhập số hợp lệ!\n"
     ]
    }
   ],
   "source": [
    "# Báo lỗi nếu a hay b khác float\n",
    "# Nhập giá trị 2 số nguyên:\n",
    "try:\n",
    "\n",
    "    result = float(input('Kết quả:'))\n",
    "    kpi = float(input('Số kpi:'))    \n",
    "\n",
    "    print(f'Số nguyên thứ nhất là: {result}')\n",
    "    print(f'Số nguyên thứ hai là: {kpi}\\n')    \n",
    "\n",
    "\n",
    "    def get_indicator(result, kpi):\n",
    "        return \"😊\" if result > kpi else \"😐\" if result == kpi else \"☹️\"\n",
    "    \n",
    "    print('Trạng thái:', get_indicator(result, kpi))\n",
    "        \n",
    "except ValueError:    \n",
    "    print(\"❌ Lỗi: Bạn phải nhập số hợp lệ!\")"
   ]
  },
  {
   "cell_type": "markdown",
   "id": "fdf023c4",
   "metadata": {},
   "source": [
    "#### 💪 Additional tasks for the most toughest ones\n",
    "🚀 Additional tasks\n",
    "##### Question 1:\n",
    "**Task**<br>\n",
    "Write a function `get_last_digit` that takes 1 integer and returns its last digit.\n",
    "\n",
    "⛔ Keep in mind that you are not allowed to use the string type to solve this problem\n",
    "\n",
    "**⚠️ Important** <br>\n",
    "Please keep in mind that you only need to submit the function. There is no need to write the code to receive input values from the user or do anything else."
   ]
  },
  {
   "cell_type": "code",
   "execution_count": 112,
   "id": "222fda6a",
   "metadata": {},
   "outputs": [
    {
     "name": "stdout",
     "output_type": "stream",
     "text": [
      "❌ Lỗi: Bạn phải nhập số hợp lệ!\n"
     ]
    }
   ],
   "source": [
    "# Báo lỗi nếu giá trị input không phải integer\n",
    "# Nhập giá trị số nguyên:\n",
    "try:\n",
    "\n",
    "    number = int(input('Số nhập:'))  \n",
    "    print(f'Số đã nhập là: {number}')     \n",
    "\n",
    "    def get_last_digit(number):\n",
    "        return abs(number) % 10\n",
    "    \n",
    "    print('Ký tự cuối:', get_last_digit(number))\n",
    "        \n",
    "except ValueError:    \n",
    "    print(\"❌ Lỗi: Bạn phải nhập số hợp lệ!\")"
   ]
  },
  {
   "attachments": {
    "image.png": {
     "image/png": "[encoded data removed]"
    }
   },
   "cell_type": "markdown",
   "id": "3ad667da",
   "metadata": {},
   "source": [
    "##### Question 2:\n",
    "Viết một hàm có tên là `do_circles_intersect`, hàm này nhận 6 số:\n",
    "\n",
    "- `x1` và `y1` - tọa độ tâm của hình tròn đầu tiên\n",
    "- `x2` và `y2` - tọa độ tâm của hình tròn thứ hai\n",
    "- `r1` và `r2` - bán kính của các hình tròn tương ứng.\n",
    "\n",
    "Hàm này sẽ kiểm tra xem các hình tròn có giao nhau không. Nếu có, hàm sẽ trả về `1`; nếu không, hàm sẽ trả về `0`.\n",
    "\n",
    "**⚠️ Quan trọng**\n",
    "Xin lưu ý rằng bạn chỉ cần gửi hàm. Không cần phải viết mã để nhận giá trị đầu vào từ người dùng hoặc làm bất cứ điều gì khác.\n",
    "\n",
    "![image.png](attachment:image.png)"
   ]
  },
  {
   "cell_type": "code",
   "execution_count": 118,
   "id": "f1a14047",
   "metadata": {},
   "outputs": [
    {
     "name": "stdout",
     "output_type": "stream",
     "text": [
      "Tọa độ x1 là: 9.0\n",
      "Tọa độ y1 là: 2.0\n",
      "Tọa độ x2 là: 5.0\n",
      "Tọa độ y2 là: 4.0\n",
      "Tọa độ r1 là: 6.0\n",
      "Tọa độ r2 là: 2.0\n",
      "1\n"
     ]
    }
   ],
   "source": [
    "# Báo lỗi nếu a hay b hay c, d, e, f khác float\n",
    "# Nhập giá trị 6 số:\n",
    "try:\n",
    "\n",
    "    x1 = float(input('Nhập tọa độ x1:'))\n",
    "    y1 = float(input('Nhập tọa độ y1:'))\n",
    "    x2 = float(input('Nhập tọa độ x2:'))\n",
    "    y2 = float(input('Nhập tọa độ y2:'))\n",
    "    r1 = float(input('Nhập tọa độ r1:'))\n",
    "    r2 = float(input('Nhập tọa độ r2:'))\n",
    "\n",
    "    print(f'Tọa độ x1 là: {x1}')\n",
    "    print(f'Tọa độ y1 là: {y1}')\n",
    "    print(f'Tọa độ x2 là: {x2}')\n",
    "    print(f'Tọa độ y2 là: {y2}')\n",
    "    print(f'Tọa độ r1 là: {r1}')\n",
    "    print(f'Tọa độ r2 là: {r2}')   \n",
    "\n",
    "    def do_circles_intersect(x1, y1, x2, y2, r1, r2):\n",
    "        distance_squared = (x1 - x2) ** 2 + (y1 - y2) ** 2\n",
    "        radius_sum_squared = (r1 + r2) ** 2\n",
    "        return 1 if distance_squared <= radius_sum_squared else 0\n",
    "\n",
    "    print(do_circles_intersect(x1, y1, x2, y2, r1, r2))\n",
    "\n",
    "except ValueError:\n",
    "    \n",
    "    print(\"❌ Lỗi: Bạn phải nhập số hợp lệ!\")"
   ]
  },
  {
   "cell_type": "markdown",
   "id": "de28d858",
   "metadata": {},
   "source": [
    "##### Question 3:\n",
    "**Nhiệm vụ**<br>\n",
    "Ngày của một ngày nào đó được đặc trưng bởi ba số tự nhiên: `y`, `m` và `d` - năm, tháng và ngày tương ứng.\n",
    "\n",
    "Viết hàm `tomorrow` để tính ngày của ngày tiếp theo cho `y`, `m` và `d` đã cho. Hãy tính đến trường hợp năm đó là năm nhuận.\n",
    "\n",
    "⛔ Hãy nhớ rằng bạn không được phép sử dụng các hàm tích hợp để làm việc với ngày, chỉ được phép sử dụng số học.\n",
    "\n",
    "**⚠️ Quan trọng**<br>\n",
    "Hãy nhớ rằng bạn chỉ cần gửi hàm. Không cần phải viết mã để nhận các giá trị đầu vào từ người dùng hoặc làm bất cứ điều gì khác.\n",
    "\n",
    "|Input\t    | Result    |\n",
    "|-----------|-----------|\n",
    "|2015 1 1   |02.01.2015 |\n",
    "|2016 2 28  |29.02.2016 |\n",
    "|6032 8 20  |21.08.6032 |\n",
    "|2024 12 31 | 01.01.2025|"
   ]
  },
  {
   "cell_type": "code",
   "execution_count": 129,
   "id": "fce5ea3b",
   "metadata": {},
   "outputs": [
    {
     "name": "stdout",
     "output_type": "stream",
     "text": [
      "Ngày hôm sau là: 02.01.2015\n"
     ]
    }
   ],
   "source": [
    "def is_leap_year(year):\n",
    "    return (year % 4 == 0 and (year % 100 != 0 or year % 400 == 0))\n",
    "\n",
    "def tomorrow(y, m, d):\n",
    "    days_in_months = [31, 28, 31, 30, 31, 30, 31, 31, 30, 31, 30, 31]\n",
    "    \n",
    "    if is_leap_year(y):\n",
    "        days_in_months[1] = 29\n",
    "\n",
    "    d += 1\n",
    "\n",
    "    if d > days_in_months[m - 1]:\n",
    "        d = 1\n",
    "        m += 1\n",
    "        if m > 12:\n",
    "            m = 1\n",
    "            y += 1\n",
    "\n",
    "    return f\"{d:02d}.{m:02d}.{y}\"\n",
    "\n",
    "# ✅ Nhập dữ liệu từ bàn phím\n",
    "try:\n",
    "    y, m, d = map(int, input(\"Nhập ngày theo định dạng: yyyy m d (VD: 2015 1 1): \").split())\n",
    "    print(\"Ngày hôm sau là:\", tomorrow(y, m, d))\n",
    "except ValueError:\n",
    "    print(\"❌ Lỗi: Vui lòng nhập đúng định dạng 3 số nguyên cách nhau bằng dấu cách!\")\n",
    "\n",
    "\n",
    "\n",
    "\n"
   ]
  },
  {
   "cell_type": "markdown",
   "id": "7dfe4649",
   "metadata": {},
   "source": [
    "# Lecture 3: Functions best practices, Lists\n"
   ]
  },
  {
   "cell_type": "markdown",
   "id": "b7ee18a3",
   "metadata": {},
   "source": [
    "**Tổng quan bài giảng** <br>\n",
    "Chúng ta sẽ dành chút thời gian để suy ngẫm về một số điểm thú vị từ buổi thực hành trước. Chúng ta sẽ xây dựng dựa trên kiến ​​thức nền tảng của mình và đi sâu vào các phương pháp hay nhất về hàm và các nguyên tắc cơ bản khi làm việc với danh sách trong Python. Chúng ta hãy cùng nhau khám phá các chủ đề này để hiểu sâu hơn và nâng cao kỹ năng lập trình của mình!\n",
    "\n",
    "**🔍 Sau đây là những nội dung chúng ta sẽ trình bày:**\n",
    "\n",
    "**1.Xem lại buổi thực hành trước:**<br>\n",
    "- Chúng ta sẽ xem lại ngắn gọn các khái niệm và thách thức chính từ buổi thực hành trước, củng cố kiến ​​thức đã học và giải quyết mọi câu hỏi hoặc sự không chắc chắn còn tồn tại.<br>\n",
    "\n",
    "**2.Các phương pháp hay nhất về hàm:**<br>\n",
    "\n",
    "Chúng ta sẽ đi sâu vào các phương pháp hay nhất để viết hàm trong Python, bao gồm các hướng dẫn về quy ước đặt tên và khả năng đọc mã. Hiểu các phương pháp hay nhất này sẽ giúp chúng ta viết mã hiệu quả và dễ bảo trì.\n",
    "\n",
    "**3.Kiểu Boolean:**<br>\n",
    "\n",
    "- Chúng ta sẽ khám phá kiểu boolean trong Python, hiểu cách các giá trị boolean (True và False) được sử dụng để biểu diễn các giá trị chân lý và kiểm soát luồng chương trình của chúng ta thông qua các câu lệnh có điều kiện.\n",
    "\n",
    "**4.Danh sách trong Python:**<br>\n",
    "\n",
    "- Chúng tôi sẽ giới thiệu danh sách, một cấu trúc dữ liệu đa năng trong Python cho phép chúng ta lưu trữ và thao tác các bộ sưu tập mục. Chúng ta sẽ tìm hiểu cách tạo danh sách và thực hiện nhiều thao tác khác nhau như truy cập các phần tử, thêm, xóa và thay đổi các phần tử\n",
    "\n",
    "**5.Vận hành danh sách:**<br>\n",
    "\n",
    "- Chúng ta sẽ khám phá cách thực hiện các thao tác trên danh sách, bao gồm:\n",
    "    - Tạo danh sách với các kiểu dữ liệu và cấu trúc khác nhau.\n",
    "    - Truy cập các phần tử riêng lẻ của danh sách.\n",
    "    - Thêm, xóa và sửa đổi các phần tử trong danh sách.\n",
    "\n",
    "**6.Vòng lặp For:**<br>\n",
    "\n",
    "- Chúng tôi sẽ giới thiệu vòng lặp for, một cấu trúc điều khiển cơ bản trong Python được sử dụng để lặp qua các chuỗi như danh sách. Chúng ta sẽ tìm hiểu cách sử dụng vòng lặp for để lặp qua danh sách và thực hiện các thao tác trên từng phần tử."
   ]
  },
  {
   "cell_type": "markdown",
   "id": "1a69008d",
   "metadata": {},
   "source": [
    "## 🧑‍🏫 Classwork\n",
    "### 📝Functions. Best practices\n",
    "#### Question 1: (Lý thuyết)\n",
    "#### Question 2: \n",
    "\n",
    "**Nhiệm vụ**\n",
    "Một tấm vé được coi là may mắn nếu số của nó là `số chẵn` nhưng `không kết thúc bằng 2.`\n",
    "\n",
    "Viết một chương trình nhập vào 1 số vé và in ra ***\"You're lucky\"*** nếu tấm vé may mắn hoặc ***\"Not this time\"*** nếu không.\n",
    "\n",
    "**⚠️ Điều kiện bắt buộc.**<br>\n",
    "Khi giải bài toán này, bạn phải định nghĩa ít nhất 2 hàm, nếu không thì giải pháp sẽ không được coi là đúng.\n",
    "\n",
    "|Kết quả đầu vào     | Output           |\n",
    "|--------------------|------------------|\n",
    "|123456              |Bạn may mắn       |\n",
    "|654321              |Không phải lần này|\n",
    "|121212              |Không phải lần này|"
   ]
  },
  {
   "cell_type": "code",
   "execution_count": null,
   "id": "2186fc5e",
   "metadata": {},
   "outputs": [
    {
     "name": "stdout",
     "output_type": "stream",
     "text": [
      "You're lucky\n"
     ]
    }
   ],
   "source": [
    "# Xác định số chẵn\n",
    "\n",
    "def is_even(number):\n",
    "    # Trả về True nếu là số chẵn\n",
    "    return number % 2 == 0\n",
    "\n",
    "# Xác định số chẵn có đuôi khác 2\n",
    "\n",
    "def is_lucky_ticket(ticket):\n",
    "    # Vé may mắn nếu là số chẵn và KHÔNG kết thúc bằng 2\n",
    "    return is_even(ticket) and str(ticket)[-1] != '2'\n",
    "\n",
    "# Hàm chạy chương trình\n",
    "\n",
    "def main():\n",
    "    try:\n",
    "        ticket = int(input(\"Nhập số vé: \").strip())\n",
    "        if is_lucky_ticket(ticket):\n",
    "            print(\"You're lucky\")\n",
    "        else:\n",
    "            print(\"Not this time\")\n",
    "    except ValueError:\n",
    "        print(\"❌ Lỗi: Bạn phải nhập một số nguyên!\")\n",
    "\n",
    "# Gọi hàm main\n",
    "main()\n"
   ]
  },
  {
   "cell_type": "code",
   "execution_count": 21,
   "id": "f128f67b",
   "metadata": {},
   "outputs": [
    {
     "name": "stdout",
     "output_type": "stream",
     "text": [
      "Số vé bạn nhập là: 12342\n",
      "Not this time\n"
     ]
    }
   ],
   "source": [
    "try:\n",
    "\n",
    "    tic_num = int(input('Nhập số vé:'))\n",
    "    print('Số vé bạn nhập là:', tic_num)\n",
    "# Xác định số chẵn\n",
    "    so_chan = tic_num % 2 == 0\n",
    "# Xác định số chẵn kết thúc không phải là 2\n",
    "    chan_Not2 = so_chan and str(tic_num)[-1] != '2'\n",
    "\n",
    "    if chan_Not2:\n",
    "        print(\"You're lucky\")\n",
    "    else:\n",
    "        print(\"Not this time\")\n",
    "except ValueError:\n",
    "    print('❌ Lỗi: Bạn phải nhập một số nguyên!')"
   ]
  },
  {
   "cell_type": "code",
   "execution_count": 26,
   "id": "e5887134",
   "metadata": {},
   "outputs": [
    {
     "name": "stdout",
     "output_type": "stream",
     "text": [
      "❌ Lỗi: Bạn phải nhập một số nguyên!\n"
     ]
    }
   ],
   "source": [
    "# Loại các số nguyên âm\n",
    "try:\n",
    "\n",
    "    tic_num = int(input('Nhập số vé:'))\n",
    "    print('Số vé bạn nhập là:', tic_num)\n",
    "# Xác định số chẵn\n",
    "    so_chan = tic_num % 2 == 0\n",
    "# Xác định số chẵn kết thúc không phải là 2\n",
    "    chan_Not2 = so_chan and so_chan>=0 and str(tic_num)[-1] != '2'  # Thêm điều kiện \"and so_chan>=0\"\n",
    "\n",
    "    if chan_Not2:\n",
    "        print(\"You're lucky\")\n",
    "    else:\n",
    "        print(\"Not this time\")\n",
    "except ValueError:\n",
    "    print('❌ Lỗi: Bạn phải nhập một số nguyên!')"
   ]
  },
  {
   "cell_type": "code",
   "execution_count": 35,
   "id": "ed82ae0f",
   "metadata": {},
   "outputs": [
    {
     "name": "stdout",
     "output_type": "stream",
     "text": [
      "Số vé bạn nhập là: 12345\n",
      "😔 Not this time\n"
     ]
    }
   ],
   "source": [
    "# Thêm điều kiện kiểm tra 5 ký tự số\n",
    "try:\n",
    "    raw_input = input('Nhập số vé (5 chữ số, không âm): ').strip()\n",
    "\n",
    "    # Kiểm tra có đúng 5 chữ số không\n",
    "    if not (raw_input.isdigit() and len(raw_input) == 5):\n",
    "        raise ValueError(\"❌ Lỗi: Số vé phải gồm đúng 5 chữ số và là số nguyên dương!\")\n",
    "\n",
    "    tic_num = int(raw_input)\n",
    "    print('Số vé bạn nhập là:', tic_num)\n",
    "\n",
    "    # Xác định số chẵn\n",
    "    so_chan = tic_num % 2 == 0\n",
    "\n",
    "    # Xác định điều kiện: số chẵn, không kết thúc bằng 2\n",
    "    chan_Not2 = so_chan and str(tic_num)[-1] != '2'\n",
    "\n",
    "    if chan_Not2:\n",
    "        print(\"🎉 You're lucky\")\n",
    "    else:\n",
    "        print(\"😔 Not this time\")\n",
    "\n",
    "#except ValueError as e:\n",
    "    #print(e)\n",
    "\n",
    "except ValueError:\n",
    "    print('❌ Lỗi, nhập không đúng yêu cầu!')\n",
    "\n"
   ]
  },
  {
   "cell_type": "code",
   "execution_count": null,
   "id": "b99f323b",
   "metadata": {},
   "outputs": [
    {
     "name": "stdout",
     "output_type": "stream",
     "text": [
      "🎉 You're lucky!\n"
     ]
    }
   ],
   "source": [
    "# Tham khảo thêm, không có kiểm tra điều kiện 5 chữ số\n",
    "\n",
    "def parse_ticket():\n",
    "    try:\n",
    "        user_input = input(\"Nhập số vé (có thể là phân số, ví dụ 10/2 hoặc số nguyên): \").strip()\n",
    "        \n",
    "        if '/' in user_input:\n",
    "            numerator, denominator = user_input.split('/')\n",
    "            ticket_number = float(numerator) / float(denominator)\n",
    "        else:\n",
    "            ticket_number = float(user_input)\n",
    "        \n",
    "        if ticket_number.is_integer():\n",
    "            return int(ticket_number)\n",
    "        else:\n",
    "            print(\"❌ Vé không hợp lệ: không phải số nguyên!\")\n",
    "            return None\n",
    "    except Exception:\n",
    "        print(\"❌ Vé không hợp lệ: không thể chuyển đổi sang số!\")\n",
    "        return None\n",
    "\n",
    "def is_lucky(ticket_number):\n",
    "    return ticket_number % 2 == 0 and ticket_number % 10 != 2\n",
    "\n",
    "def check_ticket():\n",
    "    ticket_number = parse_ticket()\n",
    "    if ticket_number is not None:\n",
    "        if is_lucky(ticket_number):\n",
    "            print(\"🎉 You're lucky!\")\n",
    "        else:\n",
    "            print(\"😔 Not this time\")\n",
    "\n",
    "# Gọi hàm kiểm tra\n",
    "check_ticket()\n"
   ]
  },
  {
   "cell_type": "markdown",
   "id": "e9fb0ac5",
   "metadata": {},
   "source": [
    "#### Question 3:\n",
    "**Task**\n",
    "According to etiquette rules, **\"Good morning\"** is said only from 4:00 to 11:59, **\"Good afternoon\"** - from 12:00 to 17:59, **\"Good evening\"** - from 18:00 to 23:59, **\"Good night\"** - from 00:00 to 3:59\n",
    "\n",
    "You are given the 4 digit integer current time in the following format: 12(hour)34(minue) <br>\n",
    "\n",
    "You need to output one of the phrases:\n",
    "\n",
    "\"Good morning\"<br>\n",
    "\"Good day\"<br>\n",
    "\"Good evening\"<br>\n",
    "\"Good night\"<br>\n",
    "\n",
    "**⚠️ Important requirement**<br>\n",
    "Solve this task by writing at least 2 functions\n",
    "\n",
    "|Input\t    |Result             |\n",
    "|-----------|-------------------|\n",
    "|0000       |Good night         |\n",
    "|0359       |Good night         |\n",
    "|0500       |Good morning       |\n",
    "|1430       |Good afternoon     |\n",
    "\n",
    "\n"
   ]
  },
  {
   "cell_type": "code",
   "execution_count": 18,
   "id": "33a73c81",
   "metadata": {},
   "outputs": [
    {
     "name": "stdout",
     "output_type": "stream",
     "text": [
      "Good morning\n"
     ]
    }
   ],
   "source": [
    "# Code ghi năm 2024, chưa chính xác lắm\n",
    "def get_hour(time):\n",
    "    return time // 100\n",
    "\n",
    "def greet_based_on_time(hour):\n",
    "    if 4 <= hour <= 11:\n",
    "        return \"Good morning\"\n",
    "    elif 12 <= hour <= 17:\n",
    "        return \"Good afternoon\"\n",
    "    elif 18 <= hour <= 23:\n",
    "        return \"Good evening\"\n",
    "    else:\n",
    "        return \"Good night\"\n",
    "\n",
    "def main():\n",
    "    time = int(input('Nhập giờ phút (4 chữ số):'))\n",
    "    hour = get_hour(time)\n",
    "    greeting = greet_based_on_time(hour)\n",
    "    print(greeting)\n",
    "\n",
    "# Ví dụ sử dụng\n",
    "main()"
   ]
  },
  {
   "cell_type": "code",
   "execution_count": 20,
   "id": "e010cb33",
   "metadata": {},
   "outputs": [
    {
     "name": "stdout",
     "output_type": "stream",
     "text": [
      "Thời gian quy đổi là: 6 giờ 30 phút\n"
     ]
    }
   ],
   "source": [
    "# Chỉ quy đổi ra giờ\n",
    "def main():\n",
    "    hour = int(input('Nhập giờ: '))\n",
    "    minute = int(input('Nhập phút: '))\n",
    "\n",
    "    # Xử lý giờ và phút\n",
    "    hour = hour % 24\n",
    "    total_minutes = minute  # Giữ phút gốc để xử lý chính xác\n",
    "    added_hour = total_minutes // 60\n",
    "    remaining_minute = total_minutes % 60\n",
    "\n",
    "    total_hour = hour + added_hour\n",
    "    total_time_str = f\"{total_hour} giờ {remaining_minute} phút\"\n",
    "    \n",
    "    print(\"Thời gian quy đổi là:\", total_time_str)\n",
    "\n",
    "main()\n"
   ]
  },
  {
   "cell_type": "markdown",
   "id": "f2b71b90",
   "metadata": {},
   "source": [
    "🚀 Các code sau đây kết quả đúng: giờ quy đổi theo chuẩn 24h, phút quy đổi ra giờ (VD: 90 phút thành 1.5 giờ)"
   ]
  },
  {
   "cell_type": "code",
   "execution_count": 23,
   "id": "aa99bd02",
   "metadata": {},
   "outputs": [
    {
     "name": "stdout",
     "output_type": "stream",
     "text": [
      "Thời gian quy đổi là: 7 giờ 30 phút\n",
      "Chào buổi sáng\n"
     ]
    }
   ],
   "source": [
    "# Nhập riêng 2 giá trị HOUR và MINUTE\n",
    "\n",
    "def get_greeting(hour, minute):\n",
    "    total_hour = hour + minute / 60\n",
    "    if 4 <= total_hour < 12:\n",
    "        return \"Chào buổi sáng\"\n",
    "    elif 12 <= total_hour < 18:\n",
    "        return \"Chào buổi chiều\"\n",
    "    elif 18 <= total_hour < 24:\n",
    "        return \"Chào buổi tối\"\n",
    "    else:\n",
    "        return \"Chúc ngủ ngon\"\n",
    "\n",
    "def main():\n",
    "    # Nhập giờ & phút\n",
    "    hour = int(input('Nhập giờ: '))\n",
    "    minute = int(input('Nhập phút: '))\n",
    "\n",
    "    # Quy đổi thời gian hợp lệ\n",
    "    hour = hour % 24\n",
    "    added_hour = minute // 60\n",
    "    remaining_minute = minute % 60\n",
    "\n",
    "    final_hour = (hour + added_hour) % 24\n",
    "    final_minute = remaining_minute\n",
    "\n",
    "    # In thời gian dạng đẹp\n",
    "    print(f\"Thời gian quy đổi là: {final_hour} giờ {final_minute} phút\")\n",
    "\n",
    "    # In lời chào\n",
    "    print(get_greeting(final_hour, final_minute))\n",
    "\n",
    "main()\n",
    "\n",
    "\n"
   ]
  },
  {
   "cell_type": "markdown",
   "id": "c14a5994",
   "metadata": {},
   "source": [
    "🥂 Code gọn và tối ưu nhất"
   ]
  },
  {
   "cell_type": "code",
   "execution_count": null,
   "id": "398df891",
   "metadata": {},
   "outputs": [
    {
     "name": "stdout",
     "output_type": "stream",
     "text": [
      "Thời gian cuối cùng là: 2 giờ 30 phút\n",
      "Chúc ngủ ngon\n"
     ]
    }
   ],
   "source": [
    "# Nhập riêng giờ và phút sau đó quy ra số thập phân (VD: 1.5 giờ)\n",
    "def get_greeting(hour, minute):\n",
    "    \n",
    "    total_hour = (hour % 24) + (minute // 60) + (minute % 60) / 60\n",
    "    if 4 <= total_hour < 12:\n",
    "        return \"Chào buổi sáng\"\n",
    "    elif 12 <= total_hour < 18:\n",
    "        return \"Chào buổi chiều\"\n",
    "    elif 18 <= total_hour < 24:\n",
    "        return \"Chào buổi tối\"\n",
    "    else:\n",
    "        return \"Chúc ngủ ngon\"\n",
    "\n",
    "def main():\n",
    "    hour = int(input('Nhập giờ (2 chữ số): '))\n",
    "    minute = int(input('Nhập phút (2 chữ số): '))\n",
    "    \n",
    "    print(f\"Thời gian cuối cùng là: {(hour % 24) + (minute // 60)} giờ {(minute % 60)} phút\")\n",
    "    print(get_greeting(hour, minute))\n",
    "\n",
    "main()\n"
   ]
  },
  {
   "cell_type": "markdown",
   "id": "adaaa41b",
   "metadata": {},
   "source": [
    "🔁 Có thể hoán đổi vị trí các hàm"
   ]
  },
  {
   "cell_type": "code",
   "execution_count": 25,
   "id": "a1aacad3",
   "metadata": {},
   "outputs": [
    {
     "name": "stdout",
     "output_type": "stream",
     "text": [
      "Thời gian cuối cùng là: 2 giờ 30 phút\n",
      "Chúc ngủ ngon\n"
     ]
    }
   ],
   "source": [
    "def main():\n",
    "    hour = int(input('Nhập giờ: '))\n",
    "    minute = int(input('Nhập phút: '))\n",
    "    print(f\"Thời gian cuối cùng là: {(hour % 24) + (minute // 60)} giờ {(minute % 60)} phút\")\n",
    "    print(get_greeting(hour, minute))  # Gọi hàm phía dưới vẫn được\n",
    "\n",
    "def get_greeting(hour, minute):\n",
    "    total_hour = (hour % 24) + (minute // 60) + (minute % 60) / 60\n",
    "    if 4 <= total_hour < 12:\n",
    "        return \"Chào buổi sáng\"\n",
    "    elif 12 <= total_hour < 18:\n",
    "        return \"Chào buổi chiều\"\n",
    "    elif 18 <= total_hour < 24:\n",
    "        return \"Chào buổi tối\"\n",
    "    else:\n",
    "        return \"Chúc ngủ ngon\"\n",
    "\n",
    "main()\n"
   ]
  },
  {
   "cell_type": "code",
   "execution_count": 27,
   "id": "71670d68",
   "metadata": {},
   "outputs": [
    {
     "name": "stdout",
     "output_type": "stream",
     "text": [
      "❌ Lỗi: Bạn phải nhập số nguyên hợp lệ!\n"
     ]
    }
   ],
   "source": [
    "def main():\n",
    "    try:\n",
    "        hour = int(input('Nhập giờ: '))\n",
    "        minute = int(input('Nhập phút: '))\n",
    "        \n",
    "        print(f\"Thời gian cuối cùng là: {(hour % 24) + (minute // 60)} giờ {(minute % 60)} phút\")\n",
    "        print(get_greeting(hour, minute))  # Gọi hàm phía dưới vẫn được\n",
    "        \n",
    "    except ValueError:\n",
    "        print(\"❌ Lỗi: Bạn phải nhập số nguyên hợp lệ!\")\n",
    "\n",
    "def get_greeting(hour, minute):\n",
    "    total_hour = (hour % 24) + (minute // 60) + (minute % 60) / 60\n",
    "    if 4 <= total_hour < 12:\n",
    "        return \"Chào buổi sáng\"\n",
    "    elif 12 <= total_hour < 18:\n",
    "        return \"Chào buổi chiều\"\n",
    "    elif 18 <= total_hour < 24:\n",
    "        return \"Chào buổi tối\"\n",
    "    else:\n",
    "        return \"Chúc ngủ ngon\"\n",
    "\n",
    "main()\n"
   ]
  },
  {
   "cell_type": "markdown",
   "id": "7af6a40b",
   "metadata": {},
   "source": [
    "### 📝Lists in Python\n",
    "#### Question 1:\n",
    "Create a variable lst containing a list of 3 arbitrary variables."
   ]
  },
  {
   "cell_type": "code",
   "execution_count": 29,
   "id": "dcee172b",
   "metadata": {},
   "outputs": [
    {
     "data": {
      "text/plain": [
       "[42, '', 3.14]"
      ]
     },
     "execution_count": 29,
     "metadata": {},
     "output_type": "execute_result"
    }
   ],
   "source": [
    "lst = [42,\"\",3.14]\n",
    "lst"
   ]
  },
  {
   "cell_type": "markdown",
   "id": "22fb3a8a",
   "metadata": {},
   "source": [
    "#### Question 2:\n",
    "Create a variable `lst` containing a list where the element with index 2 is equal to 'Python'. Other elements and their quantity are up to you."
   ]
  },
  {
   "cell_type": "code",
   "execution_count": 32,
   "id": "35e52f5f",
   "metadata": {},
   "outputs": [
    {
     "data": {
      "text/plain": [
       "[0.0009, -3, 'Python', 1.33, 50]"
      ]
     },
     "execution_count": 32,
     "metadata": {},
     "output_type": "execute_result"
    }
   ],
   "source": [
    "lst = [0.0009, -3, 'Python', round(4/3,2), 50]\n",
    "lst"
   ]
  },
  {
   "cell_type": "markdown",
   "id": "782ae8dd",
   "metadata": {},
   "source": [
    "#### Question 3:\n",
    "Trong chương trình kiểm tra, đã có một danh sách l được xác định.\n",
    "\n",
    "Hai số được nhập từ bàn phím:\n",
    "\n",
    "- một phần tử mới của danh sách\n",
    "- vị trí (chỉ số) mà nó sẽ được chèn vào danh sách đã chuẩn bị.\n",
    "\n",
    "Viết một chương trình lấy 2 số này từ người dùng và thêm một phần tử mới tại chỉ số đã chỉ định trong danh sách l.\n",
    "\n",
    "Bạn không cần phải tạo danh sách l, nó đã được xác định trong chương trình kiểm tra.\n",
    "\n",
    "Bạn cũng không cần phải xuất danh sách kết quả."
   ]
  },
  {
   "cell_type": "code",
   "execution_count": 51,
   "id": "46c2ecfd",
   "metadata": {},
   "outputs": [
    {
     "name": "stdout",
     "output_type": "stream",
     "text": [
      "Bạn đã nhập giá trị cần chèn là 111 tại index 90\n",
      "Danh sách sau khi chèn là: [0.0009, -3, 'Python', 1.33, 50, 11, 8, 0.643, 0, 30, 101, 'Linh', 5, 90, 111]\n"
     ]
    }
   ],
   "source": [
    "lst_a = [0.0009, -3, 'Python', round(4/3,2), 50, 11, 8, 0.643, 0, 30, 101, 'Linh', 5, 90]\n",
    "\n",
    "new_element = int(input('Nhập số nguyên cần thêm vô list:'))\n",
    "position = int(input('Vị trí index cần chèn:'))\n",
    "\n",
    "# Chèn phần tử mới vào danh sách tại vị trí được chỉ định\n",
    "lst_a.insert(position, new_element)\n",
    "\n",
    "# In danh sách sau khi chèn\n",
    "print(f'Bạn đã nhập giá trị cần chèn là {new_element} tại index {position}')\n",
    "print(\"Danh sách sau khi chèn là:\", lst_a)"
   ]
  },
  {
   "cell_type": "markdown",
   "id": "2c8672cd",
   "metadata": {},
   "source": [
    "#### Question 4:\n",
    "Trong chương trình kiểm tra, đã có một danh sách `l` được xác định.<br>\n",
    "Một số được nhập từ bàn phím: một phần tử cần được xóa khỏi danh sách.<br>\n",
    "Viết một chương trình lấy số này từ người dùng và xóa phần tử này khỏi danh sách `l`.<br>\n",
    "\n",
    "Bạn không cần phải tạo danh sách `l`, nó đã được xác định trong chương trình kiểm tra.<br>\n",
    "Bạn cũng không cần phải xuất danh sách kết quả."
   ]
  },
  {
   "cell_type": "code",
   "execution_count": 66,
   "id": "38011a7c",
   "metadata": {},
   "outputs": [
    {
     "name": "stdout",
     "output_type": "stream",
     "text": [
      "✅ Giá trị đã được xóa.\n",
      "🎯 Danh sách hiện tại: [9, 19, 109, -100, 10.0, 12]\n"
     ]
    }
   ],
   "source": [
    "# List gồm các số nguyên\n",
    "list1 = [9, 19, 109, -100, 0, 100/10, 12]\n",
    "\n",
    "x = int(input(\"Nhập số cần xóa khỏi list: \"))\n",
    "\n",
    "if x not in list1:\n",
    "    print(f'❌ Giá trị {x} bạn yêu cầu không tồn tại trong list1')\n",
    "else:\n",
    "    list1.remove(x)\n",
    "    print('✅ Giá trị đã được xóa.')\n",
    "\n",
    "print('🎯 Danh sách hiện tại:', list1)"
   ]
  },
  {
   "cell_type": "markdown",
   "id": "46cce132",
   "metadata": {},
   "source": [
    "### 📝Iterating lists\n",
    "#### Question 1:\n",
    "**Nhiệm vụ**<br>\n",
    "Viết một chương trình lấy một danh sách các số nguyên được phân cách bằng một khoảng trắng, nhân mỗi số với 2 và xuất ra tất cả các phần tử của danh sách, mỗi phần tử trên một dòng riêng biệt.\n",
    "\n",
    "**Định dạng đầu vào**<br>\n",
    "Danh sách các số nguyên được phân cách bằng một khoảng trắng.\n",
    "\n",
    "**Định dạng đầu ra**<br>\n",
    "Danh sách đã sửa đổi theo điều kiện nhiệm vụ. Mỗi phần tử của danh sách phải được xuất ra trên một dòng riêng biệt."
   ]
  },
  {
   "cell_type": "code",
   "execution_count": null,
   "id": "944fcef7",
   "metadata": {},
   "outputs": [
    {
     "name": "stdout",
     "output_type": "stream",
     "text": [
      "Bạn đã nhập: [1, 3, 5]\n",
      "\n",
      "Kết quả:\n",
      "2\n",
      "6\n",
      "10\n"
     ]
    }
   ],
   "source": [
    "# Nhập list số nguyên, cách nhau bằng dấu cách\n",
    "list2 = list(map(int, input('Nhập các số nguyên và cách nhau bằng khoảng trắng:').split()))\n",
    "print('Bạn đã nhập:', list2)\n",
    "print('\\nKết quả:')\n",
    "\n",
    "# Nhân mỗi phần tử với 2 và in ra từng dòng\n",
    "for num in list2:    \n",
    "    print(num * 2)"
   ]
  },
  {
   "cell_type": "markdown",
   "id": "37f99751",
   "metadata": {},
   "source": [
    "#### Question 2:\n",
    "**Nhiệm vụ**<br>\n",
    "Viết một chương trình lấy một danh sách các số nguyên được phân tách bằng một khoảng trắng. Nếu độ dài của danh sách này là số lẻ, hãy thêm một phần tử chứa số `0` vào cuối danh sách.\n",
    "\n",
    "Sau đó, xuất danh sách theo định dạng `[el1, el2, el3, ..., elN]`, trong đó `el1, el2, el3` và `elN` là các phần tử của danh sách.\n",
    "\n",
    "**Định dạng đầu vào**<br>\n",
    "Danh sách các số nguyên được phân tách bằng một khoảng trắng.\n",
    "\n",
    "**Định dạng đầu ra**<br>\n",
    "Danh sách đã sửa đổi theo điều kiện nhiệm vụ."
   ]
  },
  {
   "cell_type": "code",
   "execution_count": 12,
   "id": "819f34c8",
   "metadata": {},
   "outputs": [
    {
     "name": "stdout",
     "output_type": "stream",
     "text": [
      "[1, 2, 3, 4]\n"
     ]
    }
   ],
   "source": [
    "list_int = list(map(int, input(\"Nhập danh sách số nguyên, cách nhau bằng dấu cách: \").split()))\n",
    "\n",
    "# Nếu số lượng phần tử là lẻ, thêm 0 vào cuối danh sách\n",
    "if len(list_int) % 2 != 0:\n",
    "    list_int.append(0)\n",
    "\n",
    "# In kết quả cuối cùng\n",
    "print(list_int)\n",
    "\n",
    "\n"
   ]
  },
  {
   "cell_type": "code",
   "execution_count": null,
   "id": "aec47d0a",
   "metadata": {},
   "outputs": [
    {
     "name": "stdout",
     "output_type": "stream",
     "text": [
      "[1, 2, 3, 4, 5, 0]\n"
     ]
    }
   ],
   "source": [
    "# Cách khác\n",
    "\n",
    "nums = list(map(int, input().split()))\n",
    "print(nums if len(nums) % 2 == 0 else nums + [0])\n"
   ]
  },
  {
   "cell_type": "code",
   "execution_count": 19,
   "id": "47a7336b",
   "metadata": {},
   "outputs": [
    {
     "name": "stdout",
     "output_type": "stream",
     "text": [
      "[1, 2, 3, 4, 5, 0]\n"
     ]
    }
   ],
   "source": [
    "# Dùng hàm:\n",
    "def normalize_list(input_list):\n",
    "    return input_list if len(input_list) % 2 == 0 else input_list + [0]\n",
    "\n",
    "input_list = list(map(int, input().split()))\n",
    "print(normalize_list(input_list))"
   ]
  },
  {
   "attachments": {
    "image.png": {
     "image/png": "[encoded data removed]"
    }
   },
   "cell_type": "markdown",
   "id": "6afe4272",
   "metadata": {},
   "source": [
    "#### Question 3:\n",
    "\n",
    "**Task**<br>\n",
    "You are given a list of integers a. You need to output only the elements that end with zero.\n",
    "\n",
    "Each output element should be printed on a separate line.\n",
    "\n",
    "**Input format**<br>\n",
    "A list of integers separated by single spaces.\n",
    "\n",
    "**Output format**<br>\n",
    "The elements of the list according to the task condition. Each element should be printed on a new line.\n",
    "\n",
    "![image.png](attachment:image.png)"
   ]
  },
  {
   "cell_type": "code",
   "execution_count": null,
   "id": "1fc857cc",
   "metadata": {},
   "outputs": [],
   "source": [
    "# Nhập danh sách số nguyên từ bàn phím\n",
    "a = list(map(int, input().split()))\n",
    "print('Bạn đã nhập:', a)\n",
    "\n",
    "# Lọc các số kết thúc bằng 0\n",
    "ends_with_0 = [num for num in a if num % 10 == 0]\n",
    "\n",
    "# In kết quả\n",
    "if ends_with_0:\n",
    "    print(\"Các số kết thúc bằng 0 là:\")\n",
    "    for num in ends_with_0:\n",
    "        print(num)\n",
    "else:\n",
    "    print(\"Không có giá trị thỏa điều kiện\")\n"
   ]
  },
  {
   "cell_type": "code",
   "execution_count": 30,
   "id": "c6d36623",
   "metadata": {},
   "outputs": [
    {
     "name": "stdout",
     "output_type": "stream",
     "text": [
      "Bạn đã nhập: [10, 18, 3, 90, 560, 4, 3, 0, 70]\n",
      "Các số kết thúc bằng 0 là:\n",
      "10 90 560 0 70\n"
     ]
    }
   ],
   "source": [
    "# Nhập danh sách số nguyên từ bàn phím\n",
    "a = list(map(int, input().split()))\n",
    "print('Bạn đã nhập:', a)\n",
    "\n",
    "# Lọc các số kết thúc bằng 0\n",
    "ends_with_0 = [num for num in a if num % 10 == 0]\n",
    "\n",
    "# In kết quả hàng ngang\n",
    "if ends_with_0:\n",
    "    print(\"Các số kết thúc bằng 0 là:\")\n",
    "    print(*ends_with_0)  # In hàng ngang, cách nhau bằng dấu cách\n",
    "else:\n",
    "    print(\"Không có giá trị thỏa điều kiện\")\n"
   ]
  },
  {
   "cell_type": "markdown",
   "id": "f43d4a89",
   "metadata": {},
   "source": [
    "#### Question 4:\n",
    "**Nhiệm vụ**<br>\n",
    "Bạn được cung cấp một danh sách các số nguyên `a`. Bạn cần tính toán và xuất tổng các phần tử. Bạn không được phép sử dụng các hàm tích hợp\n",
    "\n",
    "**Định dạng đầu vào**<br>\n",
    "Một danh sách các số nguyên được phân tách bằng dấu cách.\n",
    "\n",
    "**Định dạng đầu ra**<br>\n",
    "Một số nguyên - tổng của tất cả các phần tử.\n",
    "\n",
    "|Đầu vào Kết quả                 | Output        |\n",
    "|--------------------------------|---------------|\n",
    "|1 2 3 4 5                       |  15           |\n",
    "|-5 -4 -3 -2 -1 0 1 2 3 4 5      |  0            |"
   ]
  },
  {
   "cell_type": "code",
   "execution_count": 33,
   "id": "f599171c",
   "metadata": {},
   "outputs": [
    {
     "name": "stdout",
     "output_type": "stream",
     "text": [
      "Bạn đã nhập: [1, 2, 3, 4, 5]\n",
      "Tổng các phần tử trong danh sách là: 15\n"
     ]
    }
   ],
   "source": [
    "# Nhập danh sách số nguyên từ bàn phím\n",
    "a = list(map(int, input().split()))\n",
    "print('Bạn đã nhập:', a)\n",
    "\n",
    "# Tính tổng các phần tử\n",
    "tong = sum(a)\n",
    "print('Tổng các phần tử trong danh sách là:', tong)\n"
   ]
  },
  {
   "cell_type": "code",
   "execution_count": 40,
   "id": "31cda8fa",
   "metadata": {},
   "outputs": [
    {
     "name": "stdout",
     "output_type": "stream",
     "text": [
      "Bạn đã nhập: [1, 2, 3, 4, 5]\n",
      "Tổng giá trị trong chuỗi là 15\n"
     ]
    }
   ],
   "source": [
    "# Nhập danh sách số nguyên từ bàn phím\n",
    "a = list(map(int, input().split()))\n",
    "print('Bạn đã nhập:', a)\n",
    "\n",
    "total = 0       # Giá trị khởi tạo ban đầu\n",
    "# Tính tổng các phần tử\n",
    "for num in a:\n",
    "    total += num\n",
    "\n",
    "print('Tổng giá trị trong chuỗi là', total)"
   ]
  }
 ],
 "metadata": {
  "kernelspec": {
   "display_name": "base",
   "language": "python",
   "name": "python3"
  },
  "language_info": {
   "codemirror_mode": {
    "name": "ipython",
    "version": 3
   },
   "file_extension": ".py",
   "mimetype": "text/x-python",
   "name": "python",
   "nbconvert_exporter": "python",
   "pygments_lexer": "ipython3",
   "version": "3.12.7"
  }
 },
 "nbformat": 4,
 "nbformat_minor": 5
}
